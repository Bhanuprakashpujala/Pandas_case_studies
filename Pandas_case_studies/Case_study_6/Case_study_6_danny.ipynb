{
 "cells": [
  {
   "cell_type": "code",
   "execution_count": 2,
   "id": "803698a1",
   "metadata": {},
   "outputs": [],
   "source": [
    "import numpy as np\n",
    "import pandas as pd"
   ]
  },
  {
   "cell_type": "code",
   "execution_count": 20,
   "id": "62715fdf",
   "metadata": {},
   "outputs": [],
   "source": [
    "Campaign_Identifier = pd.read_csv(r\"C:\\Users\\THINKPAD\\Desktop\\PANDAS_CASE_STUDY\\Case_study_666\\Campaign_Identifier.csv\",index_col = 0)\n",
    "Event_Identifier = pd.read_csv(r\"C:\\Users\\THINKPAD\\Desktop\\PANDAS_CASE_STUDY\\Case_study_666\\Event Identifier.csv\",index_col = 0)\n",
    "events = pd.read_csv(r\"C:\\Users\\THINKPAD\\Desktop\\PANDAS_CASE_STUDY\\Case_study_666\\events.csv\",index_col = 0)\n",
    "Page_Hierarchy = pd.read_csv(r\"C:\\Users\\THINKPAD\\Desktop\\PANDAS_CASE_STUDY\\Case_study_666\\Page_Hierarchy.csv\",index_col = 0)\n",
    "users = pd.read_csv(r\"C:\\Users\\THINKPAD\\Desktop\\PANDAS_CASE_STUDY\\Case_study_666\\Users.csv\",index_col = 0)"
   ]
  },
  {
   "cell_type": "code",
   "execution_count": null,
   "id": "81fc9c3b",
   "metadata": {},
   "outputs": [],
   "source": []
  },
  {
   "cell_type": "markdown",
   "id": "55562a8a",
   "metadata": {},
   "source": [
    "# Digital Analysis"
   ]
  },
  {
   "cell_type": "code",
   "execution_count": 22,
   "id": "4e35fbd5",
   "metadata": {},
   "outputs": [
    {
     "data": {
      "text/html": [
       "<div>\n",
       "<style scoped>\n",
       "    .dataframe tbody tr th:only-of-type {\n",
       "        vertical-align: middle;\n",
       "    }\n",
       "\n",
       "    .dataframe tbody tr th {\n",
       "        vertical-align: top;\n",
       "    }\n",
       "\n",
       "    .dataframe thead th {\n",
       "        text-align: right;\n",
       "    }\n",
       "</style>\n",
       "<table border=\"1\" class=\"dataframe\">\n",
       "  <thead>\n",
       "    <tr style=\"text-align: right;\">\n",
       "      <th></th>\n",
       "      <th>user_id</th>\n",
       "      <th>cookie_id</th>\n",
       "      <th>start_date</th>\n",
       "    </tr>\n",
       "  </thead>\n",
       "  <tbody>\n",
       "    <tr>\n",
       "      <th>0</th>\n",
       "      <td>1</td>\n",
       "      <td>c4ca42</td>\n",
       "      <td>2020-02-04</td>\n",
       "    </tr>\n",
       "    <tr>\n",
       "      <th>1</th>\n",
       "      <td>2</td>\n",
       "      <td>c81e72</td>\n",
       "      <td>2020-01-18</td>\n",
       "    </tr>\n",
       "    <tr>\n",
       "      <th>2</th>\n",
       "      <td>3</td>\n",
       "      <td>eccbc8</td>\n",
       "      <td>2020-02-21</td>\n",
       "    </tr>\n",
       "    <tr>\n",
       "      <th>3</th>\n",
       "      <td>4</td>\n",
       "      <td>a87ff6</td>\n",
       "      <td>2020-02-22</td>\n",
       "    </tr>\n",
       "    <tr>\n",
       "      <th>4</th>\n",
       "      <td>5</td>\n",
       "      <td>e4da3b</td>\n",
       "      <td>2020-02-01</td>\n",
       "    </tr>\n",
       "    <tr>\n",
       "      <th>...</th>\n",
       "      <td>...</td>\n",
       "      <td>...</td>\n",
       "      <td>...</td>\n",
       "    </tr>\n",
       "    <tr>\n",
       "      <th>1777</th>\n",
       "      <td>25</td>\n",
       "      <td>46dd2f</td>\n",
       "      <td>2020-03-29</td>\n",
       "    </tr>\n",
       "    <tr>\n",
       "      <th>1778</th>\n",
       "      <td>94</td>\n",
       "      <td>59511b</td>\n",
       "      <td>2020-03-22</td>\n",
       "    </tr>\n",
       "    <tr>\n",
       "      <th>1779</th>\n",
       "      <td>49</td>\n",
       "      <td>d345a8</td>\n",
       "      <td>2020-02-23</td>\n",
       "    </tr>\n",
       "    <tr>\n",
       "      <th>1780</th>\n",
       "      <td>211</td>\n",
       "      <td>a26e03</td>\n",
       "      <td>2020-02-20</td>\n",
       "    </tr>\n",
       "    <tr>\n",
       "      <th>1781</th>\n",
       "      <td>64</td>\n",
       "      <td>87a4ba</td>\n",
       "      <td>2020-03-18</td>\n",
       "    </tr>\n",
       "  </tbody>\n",
       "</table>\n",
       "<p>1782 rows × 3 columns</p>\n",
       "</div>"
      ],
      "text/plain": [
       "      user_id cookie_id  start_date\n",
       "0           1    c4ca42  2020-02-04\n",
       "1           2    c81e72  2020-01-18\n",
       "2           3    eccbc8  2020-02-21\n",
       "3           4    a87ff6  2020-02-22\n",
       "4           5    e4da3b  2020-02-01\n",
       "...       ...       ...         ...\n",
       "1777       25    46dd2f  2020-03-29\n",
       "1778       94    59511b  2020-03-22\n",
       "1779       49    d345a8  2020-02-23\n",
       "1780      211    a26e03  2020-02-20\n",
       "1781       64    87a4ba  2020-03-18\n",
       "\n",
       "[1782 rows x 3 columns]"
      ]
     },
     "execution_count": 22,
     "metadata": {},
     "output_type": "execute_result"
    }
   ],
   "source": [
    "users"
   ]
  },
  {
   "cell_type": "code",
   "execution_count": 23,
   "id": "7f34cdde",
   "metadata": {},
   "outputs": [
    {
     "name": "stdout",
     "output_type": "stream",
     "text": [
      "<class 'pandas.core.frame.DataFrame'>\n",
      "Index: 1782 entries, 0 to 1781\n",
      "Data columns (total 3 columns):\n",
      " #   Column      Non-Null Count  Dtype \n",
      "---  ------      --------------  ----- \n",
      " 0   user_id     1782 non-null   int64 \n",
      " 1   cookie_id   1782 non-null   object\n",
      " 2   start_date  1782 non-null   object\n",
      "dtypes: int64(1), object(2)\n",
      "memory usage: 55.7+ KB\n"
     ]
    }
   ],
   "source": [
    "users.info()"
   ]
  },
  {
   "cell_type": "code",
   "execution_count": 24,
   "id": "906a4d05",
   "metadata": {},
   "outputs": [],
   "source": [
    "users['start_date']= users['start_date'].apply(pd.to_datetime)"
   ]
  },
  {
   "cell_type": "code",
   "execution_count": 25,
   "id": "18a45c10",
   "metadata": {},
   "outputs": [
    {
     "name": "stdout",
     "output_type": "stream",
     "text": [
      "<class 'pandas.core.frame.DataFrame'>\n",
      "Index: 1782 entries, 0 to 1781\n",
      "Data columns (total 3 columns):\n",
      " #   Column      Non-Null Count  Dtype         \n",
      "---  ------      --------------  -----         \n",
      " 0   user_id     1782 non-null   int64         \n",
      " 1   cookie_id   1782 non-null   object        \n",
      " 2   start_date  1782 non-null   datetime64[ns]\n",
      "dtypes: datetime64[ns](1), int64(1), object(1)\n",
      "memory usage: 55.7+ KB\n"
     ]
    }
   ],
   "source": [
    "users.info()"
   ]
  },
  {
   "cell_type": "markdown",
   "id": "c1551f03",
   "metadata": {},
   "source": [
    "###  1. How many users are there?"
   ]
  },
  {
   "cell_type": "code",
   "execution_count": 27,
   "id": "78eca373",
   "metadata": {},
   "outputs": [
    {
     "data": {
      "text/plain": [
       "500"
      ]
     },
     "execution_count": 27,
     "metadata": {},
     "output_type": "execute_result"
    }
   ],
   "source": [
    "users['user_id'].nunique()"
   ]
  },
  {
   "cell_type": "markdown",
   "id": "f6d0e046",
   "metadata": {},
   "source": [
    "# 2.How many cookies does each user have on average?"
   ]
  },
  {
   "cell_type": "code",
   "execution_count": 29,
   "id": "1f59f3f4",
   "metadata": {},
   "outputs": [
    {
     "data": {
      "text/plain": [
       "3.564"
      ]
     },
     "execution_count": 29,
     "metadata": {},
     "output_type": "execute_result"
    }
   ],
   "source": [
    "# Group by 'user_id' and count the number of 'cookie_id' for each user\n",
    "grouped_df = users.groupby('user_id').agg(cookies_count=('cookie_id', 'count')).reset_index()\n",
    "\n",
    "# Calculate the average of 'cookies_count' and cast it to float\n",
    "avg_cookies_per_user = float(grouped_df['cookies_count'].mean())\n",
    "\n",
    "avg_cookies_per_user"
   ]
  },
  {
   "cell_type": "markdown",
   "id": "8234de6a",
   "metadata": {},
   "source": [
    "# 3.What is the unique number of visits by all users per month?"
   ]
  },
  {
   "cell_type": "code",
   "execution_count": 30,
   "id": "e78a18c4",
   "metadata": {},
   "outputs": [
    {
     "data": {
      "text/html": [
       "<div>\n",
       "<style scoped>\n",
       "    .dataframe tbody tr th:only-of-type {\n",
       "        vertical-align: middle;\n",
       "    }\n",
       "\n",
       "    .dataframe tbody tr th {\n",
       "        vertical-align: top;\n",
       "    }\n",
       "\n",
       "    .dataframe thead th {\n",
       "        text-align: right;\n",
       "    }\n",
       "</style>\n",
       "<table border=\"1\" class=\"dataframe\">\n",
       "  <thead>\n",
       "    <tr style=\"text-align: right;\">\n",
       "      <th></th>\n",
       "      <th>visit_id</th>\n",
       "      <th>cookie_id</th>\n",
       "      <th>page_id</th>\n",
       "      <th>event_type</th>\n",
       "      <th>sequence_number</th>\n",
       "      <th>event_time</th>\n",
       "    </tr>\n",
       "  </thead>\n",
       "  <tbody>\n",
       "    <tr>\n",
       "      <th>0</th>\n",
       "      <td>ccf365</td>\n",
       "      <td>c4ca42</td>\n",
       "      <td>1</td>\n",
       "      <td>1</td>\n",
       "      <td>1</td>\n",
       "      <td>2020-02-04 19:16:09.182546</td>\n",
       "    </tr>\n",
       "    <tr>\n",
       "      <th>1</th>\n",
       "      <td>ccf365</td>\n",
       "      <td>c4ca42</td>\n",
       "      <td>2</td>\n",
       "      <td>1</td>\n",
       "      <td>2</td>\n",
       "      <td>2020-02-04 19:16:17.358191</td>\n",
       "    </tr>\n",
       "    <tr>\n",
       "      <th>2</th>\n",
       "      <td>ccf365</td>\n",
       "      <td>c4ca42</td>\n",
       "      <td>6</td>\n",
       "      <td>1</td>\n",
       "      <td>3</td>\n",
       "      <td>2020-02-04 19:16:58.454669</td>\n",
       "    </tr>\n",
       "    <tr>\n",
       "      <th>3</th>\n",
       "      <td>ccf365</td>\n",
       "      <td>c4ca42</td>\n",
       "      <td>9</td>\n",
       "      <td>1</td>\n",
       "      <td>4</td>\n",
       "      <td>2020-02-04 19:16:58.609142</td>\n",
       "    </tr>\n",
       "    <tr>\n",
       "      <th>4</th>\n",
       "      <td>ccf365</td>\n",
       "      <td>c4ca42</td>\n",
       "      <td>9</td>\n",
       "      <td>2</td>\n",
       "      <td>5</td>\n",
       "      <td>2020-02-04 19:17:51.72942</td>\n",
       "    </tr>\n",
       "    <tr>\n",
       "      <th>...</th>\n",
       "      <td>...</td>\n",
       "      <td>...</td>\n",
       "      <td>...</td>\n",
       "      <td>...</td>\n",
       "      <td>...</td>\n",
       "      <td>...</td>\n",
       "    </tr>\n",
       "    <tr>\n",
       "      <th>32729</th>\n",
       "      <td>355a6a</td>\n",
       "      <td>87a4ba</td>\n",
       "      <td>10</td>\n",
       "      <td>1</td>\n",
       "      <td>15</td>\n",
       "      <td>2020-03-18 22:44:16.541396</td>\n",
       "    </tr>\n",
       "    <tr>\n",
       "      <th>32730</th>\n",
       "      <td>355a6a</td>\n",
       "      <td>87a4ba</td>\n",
       "      <td>11</td>\n",
       "      <td>1</td>\n",
       "      <td>16</td>\n",
       "      <td>2020-03-18 22:44:18.90083</td>\n",
       "    </tr>\n",
       "    <tr>\n",
       "      <th>32731</th>\n",
       "      <td>355a6a</td>\n",
       "      <td>87a4ba</td>\n",
       "      <td>11</td>\n",
       "      <td>2</td>\n",
       "      <td>17</td>\n",
       "      <td>2020-03-18 22:45:12.670472</td>\n",
       "    </tr>\n",
       "    <tr>\n",
       "      <th>32732</th>\n",
       "      <td>355a6a</td>\n",
       "      <td>87a4ba</td>\n",
       "      <td>12</td>\n",
       "      <td>1</td>\n",
       "      <td>18</td>\n",
       "      <td>2020-03-18 22:45:54.081818</td>\n",
       "    </tr>\n",
       "    <tr>\n",
       "      <th>32733</th>\n",
       "      <td>355a6a</td>\n",
       "      <td>87a4ba</td>\n",
       "      <td>13</td>\n",
       "      <td>3</td>\n",
       "      <td>19</td>\n",
       "      <td>2020-03-18 22:45:54.984666</td>\n",
       "    </tr>\n",
       "  </tbody>\n",
       "</table>\n",
       "<p>32734 rows × 6 columns</p>\n",
       "</div>"
      ],
      "text/plain": [
       "      visit_id cookie_id  page_id  event_type  sequence_number  \\\n",
       "0       ccf365    c4ca42        1           1                1   \n",
       "1       ccf365    c4ca42        2           1                2   \n",
       "2       ccf365    c4ca42        6           1                3   \n",
       "3       ccf365    c4ca42        9           1                4   \n",
       "4       ccf365    c4ca42        9           2                5   \n",
       "...        ...       ...      ...         ...              ...   \n",
       "32729   355a6a    87a4ba       10           1               15   \n",
       "32730   355a6a    87a4ba       11           1               16   \n",
       "32731   355a6a    87a4ba       11           2               17   \n",
       "32732   355a6a    87a4ba       12           1               18   \n",
       "32733   355a6a    87a4ba       13           3               19   \n",
       "\n",
       "                       event_time  \n",
       "0      2020-02-04 19:16:09.182546  \n",
       "1      2020-02-04 19:16:17.358191  \n",
       "2      2020-02-04 19:16:58.454669  \n",
       "3      2020-02-04 19:16:58.609142  \n",
       "4       2020-02-04 19:17:51.72942  \n",
       "...                           ...  \n",
       "32729  2020-03-18 22:44:16.541396  \n",
       "32730   2020-03-18 22:44:18.90083  \n",
       "32731  2020-03-18 22:45:12.670472  \n",
       "32732  2020-03-18 22:45:54.081818  \n",
       "32733  2020-03-18 22:45:54.984666  \n",
       "\n",
       "[32734 rows x 6 columns]"
      ]
     },
     "execution_count": 30,
     "metadata": {},
     "output_type": "execute_result"
    }
   ],
   "source": [
    "events"
   ]
  },
  {
   "cell_type": "code",
   "execution_count": 31,
   "id": "80364d4d",
   "metadata": {},
   "outputs": [
    {
     "name": "stdout",
     "output_type": "stream",
     "text": [
      "<class 'pandas.core.frame.DataFrame'>\n",
      "Index: 32734 entries, 0 to 32733\n",
      "Data columns (total 6 columns):\n",
      " #   Column           Non-Null Count  Dtype \n",
      "---  ------           --------------  ----- \n",
      " 0   visit_id         32734 non-null  object\n",
      " 1   cookie_id        32734 non-null  object\n",
      " 2   page_id          32734 non-null  int64 \n",
      " 3   event_type       32734 non-null  int64 \n",
      " 4   sequence_number  32734 non-null  int64 \n",
      " 5   event_time       32734 non-null  object\n",
      "dtypes: int64(3), object(3)\n",
      "memory usage: 1.7+ MB\n"
     ]
    }
   ],
   "source": [
    "events.info()"
   ]
  },
  {
   "cell_type": "code",
   "execution_count": 32,
   "id": "d7fd4d5c",
   "metadata": {},
   "outputs": [],
   "source": [
    "events['event_time'] = pd.to_datetime(events['event_time'])"
   ]
  },
  {
   "cell_type": "code",
   "execution_count": 33,
   "id": "a33bfd73",
   "metadata": {},
   "outputs": [
    {
     "name": "stdout",
     "output_type": "stream",
     "text": [
      "<class 'pandas.core.frame.DataFrame'>\n",
      "Index: 32734 entries, 0 to 32733\n",
      "Data columns (total 6 columns):\n",
      " #   Column           Non-Null Count  Dtype         \n",
      "---  ------           --------------  -----         \n",
      " 0   visit_id         32734 non-null  object        \n",
      " 1   cookie_id        32734 non-null  object        \n",
      " 2   page_id          32734 non-null  int64         \n",
      " 3   event_type       32734 non-null  int64         \n",
      " 4   sequence_number  32734 non-null  int64         \n",
      " 5   event_time       32734 non-null  datetime64[ns]\n",
      "dtypes: datetime64[ns](1), int64(3), object(2)\n",
      "memory usage: 1.7+ MB\n"
     ]
    }
   ],
   "source": [
    "events.info()"
   ]
  },
  {
   "cell_type": "code",
   "execution_count": 35,
   "id": "a29d0a14",
   "metadata": {},
   "outputs": [
    {
     "data": {
      "text/html": [
       "<div>\n",
       "<style scoped>\n",
       "    .dataframe tbody tr th:only-of-type {\n",
       "        vertical-align: middle;\n",
       "    }\n",
       "\n",
       "    .dataframe tbody tr th {\n",
       "        vertical-align: top;\n",
       "    }\n",
       "\n",
       "    .dataframe thead th {\n",
       "        text-align: right;\n",
       "    }\n",
       "</style>\n",
       "<table border=\"1\" class=\"dataframe\">\n",
       "  <thead>\n",
       "    <tr style=\"text-align: right;\">\n",
       "      <th></th>\n",
       "      <th>months</th>\n",
       "      <th>visits_count</th>\n",
       "    </tr>\n",
       "  </thead>\n",
       "  <tbody>\n",
       "    <tr>\n",
       "      <th>0</th>\n",
       "      <td>1</td>\n",
       "      <td>876</td>\n",
       "    </tr>\n",
       "    <tr>\n",
       "      <th>1</th>\n",
       "      <td>2</td>\n",
       "      <td>1488</td>\n",
       "    </tr>\n",
       "    <tr>\n",
       "      <th>2</th>\n",
       "      <td>3</td>\n",
       "      <td>916</td>\n",
       "    </tr>\n",
       "    <tr>\n",
       "      <th>3</th>\n",
       "      <td>4</td>\n",
       "      <td>248</td>\n",
       "    </tr>\n",
       "    <tr>\n",
       "      <th>4</th>\n",
       "      <td>5</td>\n",
       "      <td>36</td>\n",
       "    </tr>\n",
       "  </tbody>\n",
       "</table>\n",
       "</div>"
      ],
      "text/plain": [
       "   months  visits_count\n",
       "0       1           876\n",
       "1       2          1488\n",
       "2       3           916\n",
       "3       4           248\n",
       "4       5            36"
      ]
     },
     "execution_count": 35,
     "metadata": {},
     "output_type": "execute_result"
    }
   ],
   "source": [
    "# Extract the month from the 'event_time' column\n",
    "events['months'] = events['event_time'].dt.month\n",
    "\n",
    "# Group by 'months' and count the number of distinct 'visit_id' for each month\n",
    "result_df = events.groupby('months')['visit_id'].nunique().reset_index(name='visits_count')\n",
    "\n",
    "# Sort the result by 'months'\n",
    "result_df = result_df.sort_values('months')\n",
    "result_df "
   ]
  },
  {
   "cell_type": "code",
   "execution_count": null,
   "id": "f7f5f27c",
   "metadata": {},
   "outputs": [],
   "source": []
  },
  {
   "cell_type": "markdown",
   "id": "56cad434",
   "metadata": {},
   "source": [
    "# 4.What is the number of events for each event type?"
   ]
  },
  {
   "cell_type": "code",
   "execution_count": 38,
   "id": "c2ab6cb7",
   "metadata": {},
   "outputs": [
    {
     "data": {
      "text/html": [
       "<div>\n",
       "<style scoped>\n",
       "    .dataframe tbody tr th:only-of-type {\n",
       "        vertical-align: middle;\n",
       "    }\n",
       "\n",
       "    .dataframe tbody tr th {\n",
       "        vertical-align: top;\n",
       "    }\n",
       "\n",
       "    .dataframe thead th {\n",
       "        text-align: right;\n",
       "    }\n",
       "</style>\n",
       "<table border=\"1\" class=\"dataframe\">\n",
       "  <thead>\n",
       "    <tr style=\"text-align: right;\">\n",
       "      <th></th>\n",
       "      <th>event_type</th>\n",
       "      <th>event_name</th>\n",
       "      <th>event_count</th>\n",
       "    </tr>\n",
       "  </thead>\n",
       "  <tbody>\n",
       "    <tr>\n",
       "      <th>0</th>\n",
       "      <td>1</td>\n",
       "      <td>Page View</td>\n",
       "      <td>20928</td>\n",
       "    </tr>\n",
       "    <tr>\n",
       "      <th>1</th>\n",
       "      <td>2</td>\n",
       "      <td>Add to Cart</td>\n",
       "      <td>8451</td>\n",
       "    </tr>\n",
       "    <tr>\n",
       "      <th>2</th>\n",
       "      <td>3</td>\n",
       "      <td>Purchase</td>\n",
       "      <td>1777</td>\n",
       "    </tr>\n",
       "    <tr>\n",
       "      <th>3</th>\n",
       "      <td>4</td>\n",
       "      <td>Ad Impression</td>\n",
       "      <td>876</td>\n",
       "    </tr>\n",
       "    <tr>\n",
       "      <th>4</th>\n",
       "      <td>5</td>\n",
       "      <td>Ad Click</td>\n",
       "      <td>702</td>\n",
       "    </tr>\n",
       "  </tbody>\n",
       "</table>\n",
       "</div>"
      ],
      "text/plain": [
       "   event_type     event_name  event_count\n",
       "0           1      Page View        20928\n",
       "1           2    Add to Cart         8451\n",
       "2           3       Purchase         1777\n",
       "3           4  Ad Impression          876\n",
       "4           5       Ad Click          702"
      ]
     },
     "execution_count": 38,
     "metadata": {},
     "output_type": "execute_result"
    }
   ],
   "source": [
    "# Merge the two DataFrames on 'event_type'\n",
    "merged_df = pd.merge(events, Event_Identifier, on='event_type')\n",
    "\n",
    "# Group by 'event_type' and 'event_name', then count the occurrences\n",
    "result_df = merged_df.groupby(['event_type', 'event_name']).size().reset_index(name='event_count')\n",
    "\n",
    "# Sort the result by 'event_type'\n",
    "result_df = result_df.sort_values('event_type')\n",
    "\n",
    "result_df"
   ]
  },
  {
   "cell_type": "code",
   "execution_count": null,
   "id": "736e53ac",
   "metadata": {},
   "outputs": [],
   "source": []
  },
  {
   "cell_type": "markdown",
   "id": "ae68f92c",
   "metadata": {},
   "source": [
    "# 5.What is the percentage of visits which have a purchase event?"
   ]
  },
  {
   "cell_type": "code",
   "execution_count": 39,
   "id": "04014e2c",
   "metadata": {},
   "outputs": [
    {
     "name": "stdout",
     "output_type": "stream",
     "text": [
      "Purchase Percentage: 49.86%\n"
     ]
    }
   ],
   "source": [
    "# Merge the two DataFrames on 'event_type'\n",
    "merged_df = pd.merge(events, Event_Identifier, on='event_type')\n",
    "\n",
    "# Filter rows where 'event_name' is 'Purchase'\n",
    "purchase_df = merged_df[merged_df['event_name'] == 'Purchase']\n",
    "\n",
    "# Calculate the purchase percentage\n",
    "total_visits = events['visit_id'].nunique()\n",
    "purchase_percentage = 100.0 * purchase_df['visit_id'].nunique() / total_visits\n",
    "\n",
    "print(f\"Purchase Percentage: {purchase_percentage:.2f}%\")"
   ]
  },
  {
   "cell_type": "code",
   "execution_count": null,
   "id": "9ad2c72d",
   "metadata": {},
   "outputs": [],
   "source": []
  },
  {
   "cell_type": "markdown",
   "id": "36b72dba",
   "metadata": {},
   "source": [
    "# 6. What is the percentage of visits which view the checkout page but do not have a purchase event?"
   ]
  },
  {
   "cell_type": "code",
   "execution_count": 40,
   "id": "47229d38",
   "metadata": {},
   "outputs": [
    {
     "name": "stdout",
     "output_type": "stream",
     "text": [
      "Percentage of View Checkout Not Leading to Purchase: 15.50%\n"
     ]
    }
   ],
   "source": [
    "# Merge the necessary DataFrames on their respective columns\n",
    "merged_df = pd.merge(events, Event_Identifier, on='event_type')\n",
    "merged_df = pd.merge(merged_df, Page_Hierarchy, on='page_id')\n",
    "\n",
    "# Create a DataFrame for view_checkout\n",
    "view_checkout_df = merged_df[(merged_df['event_name'] == 'Page View') & (merged_df['page_name'] == 'Checkout')]\n",
    "cnt_view_checkout = view_checkout_df['visit_id'].count()\n",
    "\n",
    "# Create a DataFrame for purchase events\n",
    "purchase_df = merged_df[merged_df['event_name'] == 'Purchase']\n",
    "\n",
    "# Calculate the percentage\n",
    "pct_view_checkout_not_purchase = 100 - (100.0 * purchase_df['visit_id'].nunique() / cnt_view_checkout)\n",
    "\n",
    "print(f\"Percentage of View Checkout Not Leading to Purchase: {pct_view_checkout_not_purchase:.2f}%\")"
   ]
  },
  {
   "cell_type": "code",
   "execution_count": null,
   "id": "7d5b515e",
   "metadata": {},
   "outputs": [],
   "source": []
  },
  {
   "cell_type": "markdown",
   "id": "2cdbe0e5",
   "metadata": {},
   "source": [
    "# 7. What are the top 3 pages by number of views?"
   ]
  },
  {
   "cell_type": "code",
   "execution_count": 41,
   "id": "e58d1f04",
   "metadata": {},
   "outputs": [
    {
     "data": {
      "text/html": [
       "<div>\n",
       "<style scoped>\n",
       "    .dataframe tbody tr th:only-of-type {\n",
       "        vertical-align: middle;\n",
       "    }\n",
       "\n",
       "    .dataframe tbody tr th {\n",
       "        vertical-align: top;\n",
       "    }\n",
       "\n",
       "    .dataframe thead th {\n",
       "        text-align: right;\n",
       "    }\n",
       "</style>\n",
       "<table border=\"1\" class=\"dataframe\">\n",
       "  <thead>\n",
       "    <tr style=\"text-align: right;\">\n",
       "      <th></th>\n",
       "      <th>page_name</th>\n",
       "      <th>page_views</th>\n",
       "    </tr>\n",
       "  </thead>\n",
       "  <tbody>\n",
       "    <tr>\n",
       "      <th>1</th>\n",
       "      <td>All Products</td>\n",
       "      <td>3174</td>\n",
       "    </tr>\n",
       "    <tr>\n",
       "      <th>3</th>\n",
       "      <td>Checkout</td>\n",
       "      <td>2103</td>\n",
       "    </tr>\n",
       "    <tr>\n",
       "      <th>5</th>\n",
       "      <td>Home Page</td>\n",
       "      <td>1782</td>\n",
       "    </tr>\n",
       "  </tbody>\n",
       "</table>\n",
       "</div>"
      ],
      "text/plain": [
       "      page_name  page_views\n",
       "1  All Products        3174\n",
       "3      Checkout        2103\n",
       "5     Home Page        1782"
      ]
     },
     "execution_count": 41,
     "metadata": {},
     "output_type": "execute_result"
    }
   ],
   "source": [
    "# Merge the necessary DataFrames on their respective columns\n",
    "merged_df = pd.merge(events, Event_Identifier, on='event_type')\n",
    "merged_df = pd.merge(merged_df, Page_Hierarchy, on='page_id')\n",
    "\n",
    "# Filter data for 'Page View' events\n",
    "page_view_df = merged_df[merged_df['event_name'] == 'Page View']\n",
    "\n",
    "# Group by 'page_name' and count occurrences\n",
    "result_df = page_view_df.groupby('page_name').size().reset_index(name='page_views')\n",
    "\n",
    "# Sort by 'page_views' in descending order\n",
    "result_df = result_df.sort_values(by='page_views', ascending=False)\n",
    "\n",
    "\n",
    "result_df.head(3)\n",
    "\n"
   ]
  },
  {
   "cell_type": "code",
   "execution_count": null,
   "id": "4d0d48da",
   "metadata": {},
   "outputs": [],
   "source": []
  },
  {
   "cell_type": "markdown",
   "id": "fab15bbf",
   "metadata": {},
   "source": [
    "# 8. What is the number of views and cart adds for each product category?"
   ]
  },
  {
   "cell_type": "code",
   "execution_count": 42,
   "id": "5a3c90e5",
   "metadata": {},
   "outputs": [
    {
     "data": {
      "text/html": [
       "<div>\n",
       "<style scoped>\n",
       "    .dataframe tbody tr th:only-of-type {\n",
       "        vertical-align: middle;\n",
       "    }\n",
       "\n",
       "    .dataframe tbody tr th {\n",
       "        vertical-align: top;\n",
       "    }\n",
       "\n",
       "    .dataframe thead th {\n",
       "        text-align: right;\n",
       "    }\n",
       "</style>\n",
       "<table border=\"1\" class=\"dataframe\">\n",
       "  <thead>\n",
       "    <tr style=\"text-align: right;\">\n",
       "      <th></th>\n",
       "      <th>product_category</th>\n",
       "      <th>page_views</th>\n",
       "      <th>cart_adds</th>\n",
       "    </tr>\n",
       "  </thead>\n",
       "  <tbody>\n",
       "    <tr>\n",
       "      <th>0</th>\n",
       "      <td>Fish</td>\n",
       "      <td>2789</td>\n",
       "      <td>4633</td>\n",
       "    </tr>\n",
       "    <tr>\n",
       "      <th>1</th>\n",
       "      <td>Luxury</td>\n",
       "      <td>1870</td>\n",
       "      <td>3032</td>\n",
       "    </tr>\n",
       "    <tr>\n",
       "      <th>2</th>\n",
       "      <td>Shellfish</td>\n",
       "      <td>3792</td>\n",
       "      <td>6204</td>\n",
       "    </tr>\n",
       "  </tbody>\n",
       "</table>\n",
       "</div>"
      ],
      "text/plain": [
       "  product_category  page_views  cart_adds\n",
       "0             Fish        2789       4633\n",
       "1           Luxury        1870       3032\n",
       "2        Shellfish        3792       6204"
      ]
     },
     "execution_count": 42,
     "metadata": {},
     "output_type": "execute_result"
    }
   ],
   "source": [
    "# Merge the necessary DataFrames on their respective columns\n",
    "merged_df = pd.merge(events, Event_Identifier, on='event_type')\n",
    "merged_df = pd.merge(merged_df, Page_Hierarchy, on='page_id')\n",
    "\n",
    "# Filter data for non-null 'product_category'\n",
    "filtered_df = merged_df[merged_df['product_category'].notnull()]\n",
    "\n",
    "# Create a pivot table to count 'Page View' and 'Add to Cart' events for each product category\n",
    "pivot_table = pd.pivot_table(filtered_df, values='event_type', index='product_category', columns='event_name', aggfunc='count', fill_value=0)\n",
    "\n",
    "# Rename columns for clarity\n",
    "pivot_table.columns = ['page_views', 'cart_adds']\n",
    "\n",
    "# Reset index to make 'product_category' a regular column\n",
    "result_df = pivot_table.reset_index()\n",
    "\n",
    "result_df"
   ]
  },
  {
   "cell_type": "code",
   "execution_count": null,
   "id": "236a84fb",
   "metadata": {},
   "outputs": [],
   "source": []
  },
  {
   "cell_type": "markdown",
   "id": "62274c01",
   "metadata": {},
   "source": [
    "# 9. What are the top 3 products by purchases?"
   ]
  },
  {
   "cell_type": "code",
   "execution_count": 44,
   "id": "d61cb753",
   "metadata": {},
   "outputs": [
    {
     "data": {
      "text/html": [
       "<div>\n",
       "<style scoped>\n",
       "    .dataframe tbody tr th:only-of-type {\n",
       "        vertical-align: middle;\n",
       "    }\n",
       "\n",
       "    .dataframe tbody tr th {\n",
       "        vertical-align: top;\n",
       "    }\n",
       "\n",
       "    .dataframe thead th {\n",
       "        text-align: right;\n",
       "    }\n",
       "</style>\n",
       "<table border=\"1\" class=\"dataframe\">\n",
       "  <thead>\n",
       "    <tr style=\"text-align: right;\">\n",
       "      <th></th>\n",
       "      <th>product_id</th>\n",
       "      <th>page_name</th>\n",
       "      <th>product_category</th>\n",
       "      <th>purchase_count</th>\n",
       "    </tr>\n",
       "  </thead>\n",
       "  <tbody>\n",
       "  </tbody>\n",
       "</table>\n",
       "</div>"
      ],
      "text/plain": [
       "Empty DataFrame\n",
       "Columns: [product_id, page_name, product_category, purchase_count]\n",
       "Index: []"
      ]
     },
     "execution_count": 44,
     "metadata": {},
     "output_type": "execute_result"
    }
   ],
   "source": [
    "# Merge the necessary DataFrames on their respective columns\n",
    "merged_df = pd.merge(events, Event_Identifier, on='event_type')\n",
    "merged_df = pd.merge(merged_df, Page_Hierarchy, on='page_id')\n",
    "\n",
    "# Filter data for 'Add to cart' events\n",
    "cart_df = merged_df[merged_df['event_name'] == 'Add to cart']\n",
    "\n",
    "# Get visit_ids where 'Add to cart' events occurred\n",
    "cart_visit_ids = cart_df['visit_id'].unique()\n",
    "\n",
    "# Filter data for 'Purchase' events with visit_ids in the 'Add to cart' visit_ids\n",
    "purchase_df = merged_df[(merged_df['event_name'] == 'Purchase') & (merged_df['visit_id'].isin(cart_visit_ids))]\n",
    "\n",
    "# Group by 'product_id', 'page_name', 'product_category' and count occurrences\n",
    "result_df = purchase_df.groupby(['product_id', 'page_name', 'product_category']).size().reset_index(name='purchase_count')\n",
    "\n",
    "# Sort by 'purchase_count' in descending order\n",
    "result_df = result_df.sort_values(by='purchase_count', ascending=False)\n",
    "\n",
    "# Select the top 3 rows\n",
    "result_df.head(3)\n",
    "\n"
   ]
  },
  {
   "cell_type": "code",
   "execution_count": 46,
   "id": "e8e74358",
   "metadata": {},
   "outputs": [
    {
     "data": {
      "text/html": [
       "<div>\n",
       "<style scoped>\n",
       "    .dataframe tbody tr th:only-of-type {\n",
       "        vertical-align: middle;\n",
       "    }\n",
       "\n",
       "    .dataframe tbody tr th {\n",
       "        vertical-align: top;\n",
       "    }\n",
       "\n",
       "    .dataframe thead th {\n",
       "        text-align: right;\n",
       "    }\n",
       "</style>\n",
       "<table border=\"1\" class=\"dataframe\">\n",
       "  <thead>\n",
       "    <tr style=\"text-align: right;\">\n",
       "      <th></th>\n",
       "      <th>product_id</th>\n",
       "      <th>purchase_count</th>\n",
       "    </tr>\n",
       "  </thead>\n",
       "  <tbody>\n",
       "  </tbody>\n",
       "</table>\n",
       "</div>"
      ],
      "text/plain": [
       "Empty DataFrame\n",
       "Columns: [product_id, purchase_count]\n",
       "Index: []"
      ]
     },
     "execution_count": 46,
     "metadata": {},
     "output_type": "execute_result"
    }
   ],
   "source": [
    "# Merge the necessary DataFrames on their respective columns\n",
    "merged_df = pd.merge(events, Event_Identifier, on='event_type')\n",
    "merged_df = pd.merge(merged_df, Page_Hierarchy, on='page_id')\n",
    "\n",
    "# Filter data for 'Add to cart' events\n",
    "cart_df = merged_df[merged_df['event_name'] == 'Add to cart']\n",
    "\n",
    "# Get visit_ids where 'Add to cart' events occurred\n",
    "cart_visit_ids = cart_df['visit_id'].unique()\n",
    "\n",
    "# Filter data for 'Purchase' events with visit_ids in the 'Add to cart' visit_ids\n",
    "purchase_df = merged_df[(merged_df['event_name'] == 'Purchase') & (merged_df['visit_id'].isin(cart_visit_ids))]\n",
    "\n",
    "# Group by 'product_id' and count occurrences\n",
    "result_df = purchase_df.groupby('product_id').size().reset_index(name='purchase_count')\n",
    "\n",
    "# Sort by 'purchase_count' in descending order\n",
    "result_df = result_df.sort_values(by='purchase_count', ascending=False)\n",
    "\n",
    "# Select the top 3 rows\n",
    "result_df_top3 = result_df.head(3)\n",
    "\n",
    "result_df_top3"
   ]
  },
  {
   "cell_type": "code",
   "execution_count": null,
   "id": "23805a8c",
   "metadata": {},
   "outputs": [],
   "source": []
  },
  {
   "cell_type": "markdown",
   "id": "2b4a053f",
   "metadata": {},
   "source": [
    "# create a new output table which has the following details:\n",
    "\n",
    "- How many times was each product viewed?\n",
    "- How many times was each product added to cart?\n",
    "- How many times was each product added to a cart but not purchased (abandoned)?\n",
    "- How many times was each product purchased?"
   ]
  },
  {
   "cell_type": "code",
   "execution_count": 50,
   "id": "6f655b8c",
   "metadata": {},
   "outputs": [
    {
     "data": {
      "text/html": [
       "<div>\n",
       "<style scoped>\n",
       "    .dataframe tbody tr th:only-of-type {\n",
       "        vertical-align: middle;\n",
       "    }\n",
       "\n",
       "    .dataframe tbody tr th {\n",
       "        vertical-align: top;\n",
       "    }\n",
       "\n",
       "    .dataframe thead th {\n",
       "        text-align: right;\n",
       "    }\n",
       "</style>\n",
       "<table border=\"1\" class=\"dataframe\">\n",
       "  <thead>\n",
       "    <tr style=\"text-align: right;\">\n",
       "      <th></th>\n",
       "      <th>product_id</th>\n",
       "      <th>page_name</th>\n",
       "      <th>product_category</th>\n",
       "      <th>views</th>\n",
       "      <th>cart_adds</th>\n",
       "      <th>abandoned</th>\n",
       "      <th>purchases</th>\n",
       "    </tr>\n",
       "  </thead>\n",
       "  <tbody>\n",
       "    <tr>\n",
       "      <th>0</th>\n",
       "      <td>1.0</td>\n",
       "      <td>Salmon</td>\n",
       "      <td>Fish</td>\n",
       "      <td>1559</td>\n",
       "      <td>938</td>\n",
       "      <td>227</td>\n",
       "      <td>711</td>\n",
       "    </tr>\n",
       "    <tr>\n",
       "      <th>1</th>\n",
       "      <td>2.0</td>\n",
       "      <td>Kingfish</td>\n",
       "      <td>Fish</td>\n",
       "      <td>1559</td>\n",
       "      <td>920</td>\n",
       "      <td>213</td>\n",
       "      <td>707</td>\n",
       "    </tr>\n",
       "    <tr>\n",
       "      <th>2</th>\n",
       "      <td>3.0</td>\n",
       "      <td>Tuna</td>\n",
       "      <td>Fish</td>\n",
       "      <td>1515</td>\n",
       "      <td>931</td>\n",
       "      <td>234</td>\n",
       "      <td>697</td>\n",
       "    </tr>\n",
       "    <tr>\n",
       "      <th>3</th>\n",
       "      <td>4.0</td>\n",
       "      <td>Russian Caviar</td>\n",
       "      <td>Luxury</td>\n",
       "      <td>1563</td>\n",
       "      <td>946</td>\n",
       "      <td>249</td>\n",
       "      <td>697</td>\n",
       "    </tr>\n",
       "    <tr>\n",
       "      <th>4</th>\n",
       "      <td>5.0</td>\n",
       "      <td>Black Truffle</td>\n",
       "      <td>Luxury</td>\n",
       "      <td>1469</td>\n",
       "      <td>924</td>\n",
       "      <td>217</td>\n",
       "      <td>707</td>\n",
       "    </tr>\n",
       "    <tr>\n",
       "      <th>5</th>\n",
       "      <td>6.0</td>\n",
       "      <td>Abalone</td>\n",
       "      <td>Shellfish</td>\n",
       "      <td>1525</td>\n",
       "      <td>932</td>\n",
       "      <td>233</td>\n",
       "      <td>699</td>\n",
       "    </tr>\n",
       "    <tr>\n",
       "      <th>6</th>\n",
       "      <td>7.0</td>\n",
       "      <td>Lobster</td>\n",
       "      <td>Shellfish</td>\n",
       "      <td>1547</td>\n",
       "      <td>968</td>\n",
       "      <td>214</td>\n",
       "      <td>754</td>\n",
       "    </tr>\n",
       "    <tr>\n",
       "      <th>7</th>\n",
       "      <td>8.0</td>\n",
       "      <td>Crab</td>\n",
       "      <td>Shellfish</td>\n",
       "      <td>1564</td>\n",
       "      <td>949</td>\n",
       "      <td>230</td>\n",
       "      <td>719</td>\n",
       "    </tr>\n",
       "    <tr>\n",
       "      <th>8</th>\n",
       "      <td>9.0</td>\n",
       "      <td>Oyster</td>\n",
       "      <td>Shellfish</td>\n",
       "      <td>1568</td>\n",
       "      <td>943</td>\n",
       "      <td>217</td>\n",
       "      <td>726</td>\n",
       "    </tr>\n",
       "  </tbody>\n",
       "</table>\n",
       "</div>"
      ],
      "text/plain": [
       "   product_id       page_name product_category  views  cart_adds  abandoned  \\\n",
       "0         1.0          Salmon             Fish   1559        938        227   \n",
       "1         2.0        Kingfish             Fish   1559        920        213   \n",
       "2         3.0            Tuna             Fish   1515        931        234   \n",
       "3         4.0  Russian Caviar           Luxury   1563        946        249   \n",
       "4         5.0   Black Truffle           Luxury   1469        924        217   \n",
       "5         6.0         Abalone        Shellfish   1525        932        233   \n",
       "6         7.0         Lobster        Shellfish   1547        968        214   \n",
       "7         8.0            Crab        Shellfish   1564        949        230   \n",
       "8         9.0          Oyster        Shellfish   1568        943        217   \n",
       "\n",
       "   purchases  \n",
       "0        711  \n",
       "1        707  \n",
       "2        697  \n",
       "3        697  \n",
       "4        707  \n",
       "5        699  \n",
       "6        754  \n",
       "7        719  \n",
       "8        726  "
      ]
     },
     "execution_count": 50,
     "metadata": {},
     "output_type": "execute_result"
    }
   ],
   "source": [
    "# Merge the necessary DataFrames on their respective columns\n",
    "merged_df = pd.merge(events, Event_Identifier, on='event_type')\n",
    "merged_df = pd.merge(merged_df, Page_Hierarchy, on='page_id')\n",
    "\n",
    "# 1st layer: Product Info\n",
    "product_info_df = merged_df[merged_df['product_id'].notnull()].groupby(['product_id', 'page_name', 'product_category']).agg(\n",
    "    views=('event_name', lambda x: (x == 'Page View').sum()),\n",
    "    cart_adds=('event_name', lambda x: (x == 'Add to Cart').sum())\n",
    ").reset_index()\n",
    "\n",
    "# 2nd layer: Product Abandoned\n",
    "product_abandoned_df = merged_df[(merged_df['event_name'] == 'Add to Cart') & ~(merged_df['visit_id'].isin(\n",
    "    merged_df[merged_df['event_name'] == 'Purchase']['visit_id']))].groupby(['product_id', 'page_name', 'product_category']).size().reset_index(name='abandoned')\n",
    "\n",
    "# 3rd layer: Product Purchased\n",
    "product_purchased_df = merged_df[(merged_df['event_name'] == 'Add to Cart') & (merged_df['visit_id'].isin(\n",
    "    merged_df[merged_df['event_name'] == 'Purchase']['visit_id']))].groupby(['product_id', 'page_name', 'product_category']).size().reset_index(name='purchases')\n",
    "\n",
    "# Merge the three DataFrames\n",
    "product_summary_df = pd.merge(product_info_df, product_abandoned_df, how='left', on=['product_id', 'page_name', 'product_category'])\n",
    "product_summary_df = pd.merge(product_summary_df, product_purchased_df, how='left', on=['product_id', 'page_name', 'product_category'])\n",
    "\n",
    "# Fill NaN values with 0\n",
    "product_summary_df = product_summary_df.fillna(0)\n",
    "\n",
    "# Display the resulting DataFrame\n",
    "product_summary_df"
   ]
  },
  {
   "cell_type": "code",
   "execution_count": null,
   "id": "69ec0a36",
   "metadata": {},
   "outputs": [],
   "source": []
  },
  {
   "cell_type": "code",
   "execution_count": null,
   "id": "a2aae153",
   "metadata": {},
   "outputs": [],
   "source": []
  },
  {
   "cell_type": "markdown",
   "id": "e0814549",
   "metadata": {},
   "source": [
    "\n"
   ]
  },
  {
   "cell_type": "markdown",
   "id": "5380048b",
   "metadata": {},
   "source": [
    "# Additionally, create another table which further aggregates the data for the above points but this time for each product category instead of individual products."
   ]
  },
  {
   "cell_type": "code",
   "execution_count": 52,
   "id": "c8d5490c",
   "metadata": {},
   "outputs": [
    {
     "data": {
      "text/html": [
       "<div>\n",
       "<style scoped>\n",
       "    .dataframe tbody tr th:only-of-type {\n",
       "        vertical-align: middle;\n",
       "    }\n",
       "\n",
       "    .dataframe tbody tr th {\n",
       "        vertical-align: top;\n",
       "    }\n",
       "\n",
       "    .dataframe thead th {\n",
       "        text-align: right;\n",
       "    }\n",
       "</style>\n",
       "<table border=\"1\" class=\"dataframe\">\n",
       "  <thead>\n",
       "    <tr style=\"text-align: right;\">\n",
       "      <th></th>\n",
       "      <th>product_category</th>\n",
       "      <th>views</th>\n",
       "      <th>cart_adds</th>\n",
       "      <th>abandoned</th>\n",
       "      <th>purchases</th>\n",
       "    </tr>\n",
       "  </thead>\n",
       "  <tbody>\n",
       "    <tr>\n",
       "      <th>0</th>\n",
       "      <td>Fish</td>\n",
       "      <td>4633</td>\n",
       "      <td>0</td>\n",
       "      <td>674</td>\n",
       "      <td>2115</td>\n",
       "    </tr>\n",
       "    <tr>\n",
       "      <th>1</th>\n",
       "      <td>Luxury</td>\n",
       "      <td>3032</td>\n",
       "      <td>0</td>\n",
       "      <td>466</td>\n",
       "      <td>1404</td>\n",
       "    </tr>\n",
       "    <tr>\n",
       "      <th>2</th>\n",
       "      <td>Shellfish</td>\n",
       "      <td>6204</td>\n",
       "      <td>0</td>\n",
       "      <td>894</td>\n",
       "      <td>2898</td>\n",
       "    </tr>\n",
       "  </tbody>\n",
       "</table>\n",
       "</div>"
      ],
      "text/plain": [
       "  product_category  views  cart_adds  abandoned  purchases\n",
       "0             Fish   4633          0        674       2115\n",
       "1           Luxury   3032          0        466       1404\n",
       "2        Shellfish   6204          0        894       2898"
      ]
     },
     "execution_count": 52,
     "metadata": {},
     "output_type": "execute_result"
    }
   ],
   "source": [
    "# Merge the necessary DataFrames on their respective columns\n",
    "merged_df = pd.merge(events, Event_Identifier, on='event_type')\n",
    "merged_df = pd.merge(merged_df, Page_Hierarchy, on='page_id')\n",
    "\n",
    "# 1st layer: Category Info\n",
    "category_info_df = merged_df[merged_df['product_id'].notnull()].groupby('product_category').agg(\n",
    "    views=('event_name', lambda x: (x == 'Page View').sum()),\n",
    "    cart_adds=('event_name', lambda x: (x == 'Add To Cart').sum())\n",
    ").reset_index()\n",
    "\n",
    "# 2nd layer: Category Abandoned\n",
    "category_abandoned_df = merged_df[(merged_df['event_name'] == 'Add to Cart') & ~(merged_df['visit_id'].isin(\n",
    "    merged_df[merged_df['event_name'] == 'Purchase']['visit_id']))].groupby('product_category').size().reset_index(name='abandoned')\n",
    "\n",
    "# 3rd layer: Category Purchased\n",
    "category_purchased_df = merged_df[(merged_df['event_name'] == 'Add to Cart') & (merged_df['visit_id'].isin(\n",
    "    merged_df[merged_df['event_name'] == 'Purchase']['visit_id']))].groupby('product_category').size().reset_index(name='purchases')\n",
    "\n",
    "# Merge the three DataFrames\n",
    "category_summary_df = pd.merge(category_info_df, category_abandoned_df, how='left', on='product_category')\n",
    "category_summary_df = pd.merge(category_summary_df, category_purchased_df, how='left', on='product_category')\n",
    "\n",
    "# Fill NaN values with 0\n",
    "category_summary_df = category_summary_df.fillna(0)\n",
    "\n",
    "# Display the resulting DataFrame\n",
    "category_summary_df"
   ]
  },
  {
   "cell_type": "code",
   "execution_count": null,
   "id": "c78cec18",
   "metadata": {},
   "outputs": [],
   "source": []
  },
  {
   "cell_type": "markdown",
   "id": "9a9bb870",
   "metadata": {},
   "source": [
    "# Use 2 new output tables - answer the following questions:\n",
    "\n"
   ]
  },
  {
   "cell_type": "markdown",
   "id": "78ce7328",
   "metadata": {},
   "source": [
    "## 1. Which product had the most views, cart adds and purchases? SELECT TOP 1."
   ]
  },
  {
   "cell_type": "code",
   "execution_count": 53,
   "id": "ece9292c",
   "metadata": {},
   "outputs": [
    {
     "data": {
      "text/html": [
       "<div>\n",
       "<style scoped>\n",
       "    .dataframe tbody tr th:only-of-type {\n",
       "        vertical-align: middle;\n",
       "    }\n",
       "\n",
       "    .dataframe tbody tr th {\n",
       "        vertical-align: top;\n",
       "    }\n",
       "\n",
       "    .dataframe thead th {\n",
       "        text-align: right;\n",
       "    }\n",
       "</style>\n",
       "<table border=\"1\" class=\"dataframe\">\n",
       "  <thead>\n",
       "    <tr style=\"text-align: right;\">\n",
       "      <th></th>\n",
       "      <th>product_id</th>\n",
       "      <th>page_name</th>\n",
       "      <th>product_category</th>\n",
       "      <th>views</th>\n",
       "      <th>cart_adds</th>\n",
       "      <th>abandoned</th>\n",
       "      <th>purchases</th>\n",
       "    </tr>\n",
       "  </thead>\n",
       "  <tbody>\n",
       "    <tr>\n",
       "      <th>6</th>\n",
       "      <td>7.0</td>\n",
       "      <td>Lobster</td>\n",
       "      <td>Shellfish</td>\n",
       "      <td>1547</td>\n",
       "      <td>968</td>\n",
       "      <td>214</td>\n",
       "      <td>754</td>\n",
       "    </tr>\n",
       "  </tbody>\n",
       "</table>\n",
       "</div>"
      ],
      "text/plain": [
       "   product_id page_name product_category  views  cart_adds  abandoned  \\\n",
       "6         7.0   Lobster        Shellfish   1547        968        214   \n",
       "\n",
       "   purchases  \n",
       "6        754  "
      ]
     },
     "execution_count": 53,
     "metadata": {},
     "output_type": "execute_result"
    }
   ],
   "source": [
    "# Sort the DataFrame by 'purchases' in descending order and select the top 1 row\n",
    "top_product = product_summary_df.sort_values(by='purchases', ascending=False).head(1)\n",
    "\n",
    "top_product"
   ]
  },
  {
   "cell_type": "code",
   "execution_count": null,
   "id": "c7b45e98",
   "metadata": {},
   "outputs": [],
   "source": []
  },
  {
   "cell_type": "markdown",
   "id": "10cfff4b",
   "metadata": {},
   "source": [
    "# 2.Which product was most likely to be abandoned?"
   ]
  },
  {
   "cell_type": "code",
   "execution_count": 54,
   "id": "7ca32e14",
   "metadata": {},
   "outputs": [
    {
     "data": {
      "text/html": [
       "<div>\n",
       "<style scoped>\n",
       "    .dataframe tbody tr th:only-of-type {\n",
       "        vertical-align: middle;\n",
       "    }\n",
       "\n",
       "    .dataframe tbody tr th {\n",
       "        vertical-align: top;\n",
       "    }\n",
       "\n",
       "    .dataframe thead th {\n",
       "        text-align: right;\n",
       "    }\n",
       "</style>\n",
       "<table border=\"1\" class=\"dataframe\">\n",
       "  <thead>\n",
       "    <tr style=\"text-align: right;\">\n",
       "      <th></th>\n",
       "      <th>product_id</th>\n",
       "      <th>page_name</th>\n",
       "      <th>product_category</th>\n",
       "      <th>views</th>\n",
       "      <th>cart_adds</th>\n",
       "      <th>abandoned</th>\n",
       "      <th>purchases</th>\n",
       "    </tr>\n",
       "  </thead>\n",
       "  <tbody>\n",
       "    <tr>\n",
       "      <th>3</th>\n",
       "      <td>4.0</td>\n",
       "      <td>Russian Caviar</td>\n",
       "      <td>Luxury</td>\n",
       "      <td>1563</td>\n",
       "      <td>946</td>\n",
       "      <td>249</td>\n",
       "      <td>697</td>\n",
       "    </tr>\n",
       "  </tbody>\n",
       "</table>\n",
       "</div>"
      ],
      "text/plain": [
       "   product_id       page_name product_category  views  cart_adds  abandoned  \\\n",
       "3         4.0  Russian Caviar           Luxury   1563        946        249   \n",
       "\n",
       "   purchases  \n",
       "3        697  "
      ]
     },
     "execution_count": 54,
     "metadata": {},
     "output_type": "execute_result"
    }
   ],
   "source": [
    "top_abandoned_product = product_summary_df.sort_values(by='abandoned', ascending=False).head(1)\n",
    "\n",
    "top_abandoned_product"
   ]
  },
  {
   "cell_type": "code",
   "execution_count": null,
   "id": "7412c24c",
   "metadata": {},
   "outputs": [],
   "source": []
  },
  {
   "cell_type": "markdown",
   "id": "82643ff8",
   "metadata": {},
   "source": [
    "# 3. Which product had the highest view to purchase percentage?"
   ]
  },
  {
   "cell_type": "code",
   "execution_count": 59,
   "id": "190ec591",
   "metadata": {},
   "outputs": [
    {
     "name": "stdout",
     "output_type": "stream",
     "text": [
      "Index(['product_id', 'page_name', 'product_category', 'views', 'cart_adds',\n",
      "       'abandoned', 'purchases', 'purchase_per_view_pct'],\n",
      "      dtype='object')\n"
     ]
    },
    {
     "data": {
      "text/html": [
       "<div>\n",
       "<style scoped>\n",
       "    .dataframe tbody tr th:only-of-type {\n",
       "        vertical-align: middle;\n",
       "    }\n",
       "\n",
       "    .dataframe tbody tr th {\n",
       "        vertical-align: top;\n",
       "    }\n",
       "\n",
       "    .dataframe thead th {\n",
       "        text-align: right;\n",
       "    }\n",
       "</style>\n",
       "<table border=\"1\" class=\"dataframe\">\n",
       "  <thead>\n",
       "    <tr style=\"text-align: right;\">\n",
       "      <th></th>\n",
       "      <th>product_id</th>\n",
       "      <th>page_name</th>\n",
       "      <th>product_category</th>\n",
       "      <th>views</th>\n",
       "      <th>cart_adds</th>\n",
       "      <th>abandoned</th>\n",
       "      <th>purchases</th>\n",
       "      <th>purchase_per_view_pct</th>\n",
       "    </tr>\n",
       "  </thead>\n",
       "  <tbody>\n",
       "    <tr>\n",
       "      <th>6</th>\n",
       "      <td>7.0</td>\n",
       "      <td>Lobster</td>\n",
       "      <td>Shellfish</td>\n",
       "      <td>1547</td>\n",
       "      <td>968</td>\n",
       "      <td>214</td>\n",
       "      <td>754</td>\n",
       "      <td>48.74</td>\n",
       "    </tr>\n",
       "  </tbody>\n",
       "</table>\n",
       "</div>"
      ],
      "text/plain": [
       "   product_id page_name product_category  views  cart_adds  abandoned  \\\n",
       "6         7.0   Lobster        Shellfish   1547        968        214   \n",
       "\n",
       "   purchases  purchase_per_view_pct  \n",
       "6        754                  48.74  "
      ]
     },
     "execution_count": 59,
     "metadata": {},
     "output_type": "execute_result"
    }
   ],
   "source": [
    "# Calculate purchase per view percentage\n",
    "product_summary_df['purchase_per_view_pct'] = (100.0 * product_summary_df['purchases'] / product_summary_df['views']).round(2)\n",
    "\n",
    "# Sort the DataFrame by 'purchase_per_view_pct' in descending order and select the top 1 row\n",
    "top_purchase_per_view = product_summary_df.sort_values(by='purchase_per_view_pct', ascending=False).head(1)\n",
    "\n",
    "# Display the column names to identify the correct ones\n",
    "print(top_purchase_per_view.columns)\n",
    "\n",
    "# Display the result\n",
    "top_purchase_per_view"
   ]
  },
  {
   "cell_type": "code",
   "execution_count": null,
   "id": "77a94b0c",
   "metadata": {},
   "outputs": [],
   "source": []
  },
  {
   "cell_type": "markdown",
   "id": "11c42dcc",
   "metadata": {},
   "source": [
    "# 4. What is the average conversion rate from view to cart add?"
   ]
  },
  {
   "cell_type": "code",
   "execution_count": 60,
   "id": "871633aa",
   "metadata": {},
   "outputs": [
    {
     "name": "stdout",
     "output_type": "stream",
     "text": [
      "Average View-to-Cart Conversion Percentage: 60.93\n"
     ]
    }
   ],
   "source": [
    "# Calculate average view-to-cart conversion percentage\n",
    "avg_view_to_cart = (100.0 * product_summary_df['cart_adds'].sum() / product_summary_df['views'].sum()).round(2)\n",
    "\n",
    "print(\"Average View-to-Cart Conversion Percentage:\", avg_view_to_cart)"
   ]
  },
  {
   "cell_type": "code",
   "execution_count": null,
   "id": "6d2e3cf7",
   "metadata": {},
   "outputs": [],
   "source": []
  },
  {
   "cell_type": "markdown",
   "id": "24a7e3e8",
   "metadata": {},
   "source": [
    "# 5. What is the average conversion rate from cart add to purchase?"
   ]
  },
  {
   "cell_type": "code",
   "execution_count": 61,
   "id": "4f582b49",
   "metadata": {},
   "outputs": [
    {
     "name": "stdout",
     "output_type": "stream",
     "text": [
      "Average Cart-to-Purchase Conversion Percentage: 75.93\n"
     ]
    }
   ],
   "source": [
    "# Calculate average cart-to-purchase conversion percentage\n",
    "avg_cart_to_purchase = (100.0 * product_summary_df['purchases'].sum() / product_summary_df['cart_adds'].sum()).round(2)\n",
    "\n",
    "print(\"Average Cart-to-Purchase Conversion Percentage:\", avg_cart_to_purchase)"
   ]
  },
  {
   "cell_type": "code",
   "execution_count": null,
   "id": "209f979c",
   "metadata": {},
   "outputs": [],
   "source": []
  }
 ],
 "metadata": {
  "kernelspec": {
   "display_name": "Python 3 (ipykernel)",
   "language": "python",
   "name": "python3"
  },
  "language_info": {
   "codemirror_mode": {
    "name": "ipython",
    "version": 3
   },
   "file_extension": ".py",
   "mimetype": "text/x-python",
   "name": "python",
   "nbconvert_exporter": "python",
   "pygments_lexer": "ipython3",
   "version": "3.11.5"
  }
 },
 "nbformat": 4,
 "nbformat_minor": 5
}
