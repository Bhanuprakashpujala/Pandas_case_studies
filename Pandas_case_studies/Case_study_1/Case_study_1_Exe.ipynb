{
 "cells": [
  {
   "cell_type": "markdown",
   "id": "7847d6e5",
   "metadata": {},
   "source": [
    "# Introduction\n",
    "Anny seriously loves Japanese food so in the beginning of 2021, he decides to embark upon a risky venture and opens up a cute little restaurant that sells his 3 favourite foods: **sushi, curry and ramen.**\n",
    "\n",
    "Anny’s Diner is in need of your assistance to help the restaurant stay afloat - the restaurant has captured some very basic data from their few months of operation but have no idea how to use their data to help them run the business.\n",
    "\n",
    "## Problem_statement\n",
    "Anny wants to use the data to answer a few simple questions about his customers, especially about their visiting patterns, how much money they’ve spent and also which menu items are their favourite. Having this deeper connection with his customers will help him deliver a better and more personalised experience for his loyal customers.\n",
    "\n",
    "He plans on using these insights to help him decide whether he should expand the existing customer loyalty program - additionally he needs help to generate some basic datasets so his team can easily inspect the data without needing to use SQL.\n",
    "\n",
    "Danny has provided you with a sample of his overall customer data due to privacy issues - but he hopes that these examples are enough for you to write fully functioning pandas code  to help him answer his questions!\n",
    "\n",
    "Anny has shared with you 3 key datasets for this case study:\n",
    "\n",
    "- sales\n",
    "- menu\n",
    "- members"
   ]
  },
  {
   "cell_type": "code",
   "execution_count": null,
   "id": "851fb7ad",
   "metadata": {},
   "outputs": [],
   "source": []
  },
  {
   "cell_type": "markdown",
   "id": "933fdc84",
   "metadata": {},
   "source": [
    "### 1. Bring in the necessary libraries for your work. Import the tools and resources needed to accomplish your tasks.\n",
    "### 2.Import the necessary data for analysis. Bring in the information that you need to examine and draw insights from.\n",
    "### 3.Explore the details of all datasets by checking their information.\n",
    "### 4.Make sure that each type of information (like numbers or dates) is stored in the correct way. This helps ensure that the data is accurate and ready for analysis, making your work more reliable and meaningful"
   ]
  },
  {
   "cell_type": "markdown",
   "id": "fb32f8df",
   "metadata": {},
   "source": [
    "### 1. What is the total amount each customer spent at the restaurant?\n",
    "### 2.How many days has each customer visited the restaurant?\n",
    "### 3.What was the first item from the menu purchased by each customer?\n",
    "### 4.What is the most purchased item on the menu and how many times was it purchased by all customers?\n",
    "### 5.Which item was the most popular for each customer?\n",
    "### 6.Which item was purchased first by the customer after they became a member?\n",
    "### 7.Which item was purchased just before the customer became a member?\n",
    "### 8.What is the total items and amount spent for each member before they became a member?\n",
    "### 9.If each  $1 spent equates to 10 points and sushi has a 2x points multiplier - how many points would each customer have?\n",
    "### 10.In the first week after a customer joins the program (including their join date) they earn 2x points on all items, not just sushi - how many points do customer A and B have at the end of January?\n"
   ]
  },
  {
   "cell_type": "markdown",
   "id": "e8bac843",
   "metadata": {},
   "source": []
  },
  {
   "cell_type": "markdown",
   "id": "5ae48854",
   "metadata": {},
   "source": []
  },
  {
   "cell_type": "code",
   "execution_count": null,
   "id": "f56aceb5",
   "metadata": {},
   "outputs": [],
   "source": []
  }
 ],
 "metadata": {
  "kernelspec": {
   "display_name": "Python 3 (ipykernel)",
   "language": "python",
   "name": "python3"
  },
  "language_info": {
   "codemirror_mode": {
    "name": "ipython",
    "version": 3
   },
   "file_extension": ".py",
   "mimetype": "text/x-python",
   "name": "python",
   "nbconvert_exporter": "python",
   "pygments_lexer": "ipython3",
   "version": "3.11.5"
  }
 },
 "nbformat": 4,
 "nbformat_minor": 5
}
