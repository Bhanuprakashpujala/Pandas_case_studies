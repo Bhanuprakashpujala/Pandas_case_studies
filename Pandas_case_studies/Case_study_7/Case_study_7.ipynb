{
 "cells": [
  {
   "cell_type": "code",
   "execution_count": 3,
   "id": "9a4ff611",
   "metadata": {},
   "outputs": [],
   "source": [
    "#importing required libraries \n",
    "import numpy as np \n",
    "import pandas as pd\n",
    "\n",
    "import seaborn as sns\n",
    "import matplotlib.pyplot as plt"
   ]
  },
  {
   "cell_type": "code",
   "execution_count": 4,
   "id": "673d05b0",
   "metadata": {},
   "outputs": [],
   "source": [
    "product_details = pd.read_csv(r\"C:\\Users\\THINKPAD\\OneDrive\\Desktop\\PANDAS_CASE_STUDY\\Case_study_7\\product_details.csv\", index_col = 0)\n",
    "product_hierarchy = pd.read_csv(r\"C:\\Users\\THINKPAD\\OneDrive\\Desktop\\PANDAS_CASE_STUDY\\Case_study_7\\product_hierarchy.csv\",index_col = 0)\n",
    "product_prices = pd.read_csv(r\"C:\\Users\\THINKPAD\\OneDrive\\Desktop\\PANDAS_CASE_STUDY\\Case_study_7\\product_prices.csv\",index_col = 0)\n",
    "sales = pd.read_csv(r\"C:\\Users\\THINKPAD\\OneDrive\\Desktop\\PANDAS_CASE_STUDY\\Case_study_7\\sales.csv\",index_col=0)\n"
   ]
  },
  {
   "cell_type": "code",
   "execution_count": 3,
   "id": "3936f758",
   "metadata": {},
   "outputs": [
    {
     "data": {
      "text/html": [
       "<div>\n",
       "<style scoped>\n",
       "    .dataframe tbody tr th:only-of-type {\n",
       "        vertical-align: middle;\n",
       "    }\n",
       "\n",
       "    .dataframe tbody tr th {\n",
       "        vertical-align: top;\n",
       "    }\n",
       "\n",
       "    .dataframe thead th {\n",
       "        text-align: right;\n",
       "    }\n",
       "</style>\n",
       "<table border=\"1\" class=\"dataframe\">\n",
       "  <thead>\n",
       "    <tr style=\"text-align: right;\">\n",
       "      <th></th>\n",
       "      <th>product_id</th>\n",
       "      <th>price</th>\n",
       "      <th>product_name</th>\n",
       "      <th>category_id</th>\n",
       "      <th>segment_id</th>\n",
       "      <th>style_id</th>\n",
       "      <th>category_name</th>\n",
       "      <th>segment_name</th>\n",
       "      <th>style_name</th>\n",
       "    </tr>\n",
       "  </thead>\n",
       "  <tbody>\n",
       "    <tr>\n",
       "      <th>0</th>\n",
       "      <td>c4a632</td>\n",
       "      <td>13</td>\n",
       "      <td>Navy Oversized Jeans - Womens</td>\n",
       "      <td>1</td>\n",
       "      <td>3</td>\n",
       "      <td>7</td>\n",
       "      <td>Womens</td>\n",
       "      <td>Jeans</td>\n",
       "      <td>Navy Oversized</td>\n",
       "    </tr>\n",
       "    <tr>\n",
       "      <th>1</th>\n",
       "      <td>e83aa3</td>\n",
       "      <td>32</td>\n",
       "      <td>Black Straight Jeans - Womens</td>\n",
       "      <td>1</td>\n",
       "      <td>3</td>\n",
       "      <td>8</td>\n",
       "      <td>Womens</td>\n",
       "      <td>Jeans</td>\n",
       "      <td>Black Straight</td>\n",
       "    </tr>\n",
       "    <tr>\n",
       "      <th>2</th>\n",
       "      <td>e31d39</td>\n",
       "      <td>10</td>\n",
       "      <td>Cream Relaxed Jeans - Womens</td>\n",
       "      <td>1</td>\n",
       "      <td>3</td>\n",
       "      <td>9</td>\n",
       "      <td>Womens</td>\n",
       "      <td>Jeans</td>\n",
       "      <td>Cream Relaxed</td>\n",
       "    </tr>\n",
       "    <tr>\n",
       "      <th>3</th>\n",
       "      <td>d5e9a6</td>\n",
       "      <td>23</td>\n",
       "      <td>Khaki Suit Jacket - Womens</td>\n",
       "      <td>1</td>\n",
       "      <td>4</td>\n",
       "      <td>10</td>\n",
       "      <td>Womens</td>\n",
       "      <td>Jacket</td>\n",
       "      <td>Khaki Suit</td>\n",
       "    </tr>\n",
       "    <tr>\n",
       "      <th>4</th>\n",
       "      <td>72f5d4</td>\n",
       "      <td>19</td>\n",
       "      <td>Indigo Rain Jacket - Womens</td>\n",
       "      <td>1</td>\n",
       "      <td>4</td>\n",
       "      <td>11</td>\n",
       "      <td>Womens</td>\n",
       "      <td>Jacket</td>\n",
       "      <td>Indigo Rain</td>\n",
       "    </tr>\n",
       "    <tr>\n",
       "      <th>5</th>\n",
       "      <td>9ec847</td>\n",
       "      <td>54</td>\n",
       "      <td>Grey Fashion Jacket - Womens</td>\n",
       "      <td>1</td>\n",
       "      <td>4</td>\n",
       "      <td>12</td>\n",
       "      <td>Womens</td>\n",
       "      <td>Jacket</td>\n",
       "      <td>Grey Fashion</td>\n",
       "    </tr>\n",
       "    <tr>\n",
       "      <th>6</th>\n",
       "      <td>5d267b</td>\n",
       "      <td>40</td>\n",
       "      <td>White Tee Shirt - Mens</td>\n",
       "      <td>2</td>\n",
       "      <td>5</td>\n",
       "      <td>13</td>\n",
       "      <td>Mens</td>\n",
       "      <td>Shirt</td>\n",
       "      <td>White Tee</td>\n",
       "    </tr>\n",
       "    <tr>\n",
       "      <th>7</th>\n",
       "      <td>c8d436</td>\n",
       "      <td>10</td>\n",
       "      <td>Teal Button Up Shirt - Mens</td>\n",
       "      <td>2</td>\n",
       "      <td>5</td>\n",
       "      <td>14</td>\n",
       "      <td>Mens</td>\n",
       "      <td>Shirt</td>\n",
       "      <td>Teal Button Up</td>\n",
       "    </tr>\n",
       "    <tr>\n",
       "      <th>8</th>\n",
       "      <td>2a2353</td>\n",
       "      <td>57</td>\n",
       "      <td>Blue Polo Shirt - Mens</td>\n",
       "      <td>2</td>\n",
       "      <td>5</td>\n",
       "      <td>15</td>\n",
       "      <td>Mens</td>\n",
       "      <td>Shirt</td>\n",
       "      <td>Blue Polo</td>\n",
       "    </tr>\n",
       "    <tr>\n",
       "      <th>9</th>\n",
       "      <td>f084eb</td>\n",
       "      <td>36</td>\n",
       "      <td>Navy Solid Socks - Mens</td>\n",
       "      <td>2</td>\n",
       "      <td>6</td>\n",
       "      <td>16</td>\n",
       "      <td>Mens</td>\n",
       "      <td>Socks</td>\n",
       "      <td>Navy Solid</td>\n",
       "    </tr>\n",
       "    <tr>\n",
       "      <th>10</th>\n",
       "      <td>b9a74d</td>\n",
       "      <td>17</td>\n",
       "      <td>White Striped Socks - Mens</td>\n",
       "      <td>2</td>\n",
       "      <td>6</td>\n",
       "      <td>17</td>\n",
       "      <td>Mens</td>\n",
       "      <td>Socks</td>\n",
       "      <td>White Striped</td>\n",
       "    </tr>\n",
       "    <tr>\n",
       "      <th>11</th>\n",
       "      <td>2feb6b</td>\n",
       "      <td>29</td>\n",
       "      <td>Pink Fluro Polkadot Socks - Mens</td>\n",
       "      <td>2</td>\n",
       "      <td>6</td>\n",
       "      <td>18</td>\n",
       "      <td>Mens</td>\n",
       "      <td>Socks</td>\n",
       "      <td>Pink Fluro Polkadot</td>\n",
       "    </tr>\n",
       "  </tbody>\n",
       "</table>\n",
       "</div>"
      ],
      "text/plain": [
       "   product_id  price                      product_name  category_id  \\\n",
       "0      c4a632     13     Navy Oversized Jeans - Womens            1   \n",
       "1      e83aa3     32     Black Straight Jeans - Womens            1   \n",
       "2      e31d39     10      Cream Relaxed Jeans - Womens            1   \n",
       "3      d5e9a6     23        Khaki Suit Jacket - Womens            1   \n",
       "4      72f5d4     19       Indigo Rain Jacket - Womens            1   \n",
       "5      9ec847     54      Grey Fashion Jacket - Womens            1   \n",
       "6      5d267b     40            White Tee Shirt - Mens            2   \n",
       "7      c8d436     10       Teal Button Up Shirt - Mens            2   \n",
       "8      2a2353     57            Blue Polo Shirt - Mens            2   \n",
       "9      f084eb     36           Navy Solid Socks - Mens            2   \n",
       "10     b9a74d     17        White Striped Socks - Mens            2   \n",
       "11     2feb6b     29  Pink Fluro Polkadot Socks - Mens            2   \n",
       "\n",
       "    segment_id  style_id category_name segment_name           style_name  \n",
       "0            3         7        Womens        Jeans       Navy Oversized  \n",
       "1            3         8        Womens        Jeans       Black Straight  \n",
       "2            3         9        Womens        Jeans        Cream Relaxed  \n",
       "3            4        10        Womens       Jacket           Khaki Suit  \n",
       "4            4        11        Womens       Jacket          Indigo Rain  \n",
       "5            4        12        Womens       Jacket         Grey Fashion  \n",
       "6            5        13          Mens        Shirt            White Tee  \n",
       "7            5        14          Mens        Shirt       Teal Button Up  \n",
       "8            5        15          Mens        Shirt            Blue Polo  \n",
       "9            6        16          Mens        Socks           Navy Solid  \n",
       "10           6        17          Mens        Socks        White Striped  \n",
       "11           6        18          Mens        Socks  Pink Fluro Polkadot  "
      ]
     },
     "execution_count": 3,
     "metadata": {},
     "output_type": "execute_result"
    }
   ],
   "source": [
    "product_details"
   ]
  },
  {
   "cell_type": "code",
   "execution_count": 4,
   "id": "397895b9",
   "metadata": {},
   "outputs": [
    {
     "name": "stdout",
     "output_type": "stream",
     "text": [
      "<class 'pandas.core.frame.DataFrame'>\n",
      "Index: 12 entries, 0 to 11\n",
      "Data columns (total 9 columns):\n",
      " #   Column         Non-Null Count  Dtype \n",
      "---  ------         --------------  ----- \n",
      " 0   product_id     12 non-null     object\n",
      " 1   price          12 non-null     int64 \n",
      " 2   product_name   12 non-null     object\n",
      " 3   category_id    12 non-null     int64 \n",
      " 4   segment_id     12 non-null     int64 \n",
      " 5   style_id       12 non-null     int64 \n",
      " 6   category_name  12 non-null     object\n",
      " 7   segment_name   12 non-null     object\n",
      " 8   style_name     12 non-null     object\n",
      "dtypes: int64(4), object(5)\n",
      "memory usage: 960.0+ bytes\n"
     ]
    }
   ],
   "source": [
    "product_details.info()"
   ]
  },
  {
   "cell_type": "code",
   "execution_count": 5,
   "id": "d67e073b",
   "metadata": {},
   "outputs": [
    {
     "data": {
      "text/html": [
       "<div>\n",
       "<style scoped>\n",
       "    .dataframe tbody tr th:only-of-type {\n",
       "        vertical-align: middle;\n",
       "    }\n",
       "\n",
       "    .dataframe tbody tr th {\n",
       "        vertical-align: top;\n",
       "    }\n",
       "\n",
       "    .dataframe thead th {\n",
       "        text-align: right;\n",
       "    }\n",
       "</style>\n",
       "<table border=\"1\" class=\"dataframe\">\n",
       "  <thead>\n",
       "    <tr style=\"text-align: right;\">\n",
       "      <th></th>\n",
       "      <th>id</th>\n",
       "      <th>parent_id</th>\n",
       "      <th>level_text</th>\n",
       "      <th>level_name</th>\n",
       "    </tr>\n",
       "  </thead>\n",
       "  <tbody>\n",
       "    <tr>\n",
       "      <th>0</th>\n",
       "      <td>1</td>\n",
       "      <td>NaN</td>\n",
       "      <td>Womens</td>\n",
       "      <td>Category</td>\n",
       "    </tr>\n",
       "    <tr>\n",
       "      <th>1</th>\n",
       "      <td>2</td>\n",
       "      <td>NaN</td>\n",
       "      <td>Mens</td>\n",
       "      <td>Category</td>\n",
       "    </tr>\n",
       "    <tr>\n",
       "      <th>2</th>\n",
       "      <td>3</td>\n",
       "      <td>1.0</td>\n",
       "      <td>Jeans</td>\n",
       "      <td>Segment</td>\n",
       "    </tr>\n",
       "    <tr>\n",
       "      <th>3</th>\n",
       "      <td>4</td>\n",
       "      <td>1.0</td>\n",
       "      <td>Jacket</td>\n",
       "      <td>Segment</td>\n",
       "    </tr>\n",
       "    <tr>\n",
       "      <th>4</th>\n",
       "      <td>5</td>\n",
       "      <td>2.0</td>\n",
       "      <td>Shirt</td>\n",
       "      <td>Segment</td>\n",
       "    </tr>\n",
       "    <tr>\n",
       "      <th>5</th>\n",
       "      <td>6</td>\n",
       "      <td>2.0</td>\n",
       "      <td>Socks</td>\n",
       "      <td>Segment</td>\n",
       "    </tr>\n",
       "    <tr>\n",
       "      <th>6</th>\n",
       "      <td>7</td>\n",
       "      <td>3.0</td>\n",
       "      <td>Navy Oversized</td>\n",
       "      <td>Style</td>\n",
       "    </tr>\n",
       "    <tr>\n",
       "      <th>7</th>\n",
       "      <td>8</td>\n",
       "      <td>3.0</td>\n",
       "      <td>Black Straight</td>\n",
       "      <td>Style</td>\n",
       "    </tr>\n",
       "    <tr>\n",
       "      <th>8</th>\n",
       "      <td>9</td>\n",
       "      <td>3.0</td>\n",
       "      <td>Cream Relaxed</td>\n",
       "      <td>Style</td>\n",
       "    </tr>\n",
       "    <tr>\n",
       "      <th>9</th>\n",
       "      <td>10</td>\n",
       "      <td>4.0</td>\n",
       "      <td>Khaki Suit</td>\n",
       "      <td>Style</td>\n",
       "    </tr>\n",
       "    <tr>\n",
       "      <th>10</th>\n",
       "      <td>11</td>\n",
       "      <td>4.0</td>\n",
       "      <td>Indigo Rain</td>\n",
       "      <td>Style</td>\n",
       "    </tr>\n",
       "    <tr>\n",
       "      <th>11</th>\n",
       "      <td>12</td>\n",
       "      <td>4.0</td>\n",
       "      <td>Grey Fashion</td>\n",
       "      <td>Style</td>\n",
       "    </tr>\n",
       "    <tr>\n",
       "      <th>12</th>\n",
       "      <td>13</td>\n",
       "      <td>5.0</td>\n",
       "      <td>White Tee</td>\n",
       "      <td>Style</td>\n",
       "    </tr>\n",
       "    <tr>\n",
       "      <th>13</th>\n",
       "      <td>14</td>\n",
       "      <td>5.0</td>\n",
       "      <td>Teal Button Up</td>\n",
       "      <td>Style</td>\n",
       "    </tr>\n",
       "    <tr>\n",
       "      <th>14</th>\n",
       "      <td>15</td>\n",
       "      <td>5.0</td>\n",
       "      <td>Blue Polo</td>\n",
       "      <td>Style</td>\n",
       "    </tr>\n",
       "    <tr>\n",
       "      <th>15</th>\n",
       "      <td>16</td>\n",
       "      <td>6.0</td>\n",
       "      <td>Navy Solid</td>\n",
       "      <td>Style</td>\n",
       "    </tr>\n",
       "    <tr>\n",
       "      <th>16</th>\n",
       "      <td>17</td>\n",
       "      <td>6.0</td>\n",
       "      <td>White Striped</td>\n",
       "      <td>Style</td>\n",
       "    </tr>\n",
       "    <tr>\n",
       "      <th>17</th>\n",
       "      <td>18</td>\n",
       "      <td>6.0</td>\n",
       "      <td>Pink Fluro Polkadot</td>\n",
       "      <td>Style</td>\n",
       "    </tr>\n",
       "  </tbody>\n",
       "</table>\n",
       "</div>"
      ],
      "text/plain": [
       "    id  parent_id           level_text level_name\n",
       "0    1        NaN               Womens   Category\n",
       "1    2        NaN                 Mens   Category\n",
       "2    3        1.0                Jeans    Segment\n",
       "3    4        1.0               Jacket    Segment\n",
       "4    5        2.0                Shirt    Segment\n",
       "5    6        2.0                Socks    Segment\n",
       "6    7        3.0       Navy Oversized      Style\n",
       "7    8        3.0       Black Straight      Style\n",
       "8    9        3.0        Cream Relaxed      Style\n",
       "9   10        4.0           Khaki Suit      Style\n",
       "10  11        4.0          Indigo Rain      Style\n",
       "11  12        4.0         Grey Fashion      Style\n",
       "12  13        5.0            White Tee      Style\n",
       "13  14        5.0       Teal Button Up      Style\n",
       "14  15        5.0            Blue Polo      Style\n",
       "15  16        6.0           Navy Solid      Style\n",
       "16  17        6.0        White Striped      Style\n",
       "17  18        6.0  Pink Fluro Polkadot      Style"
      ]
     },
     "execution_count": 5,
     "metadata": {},
     "output_type": "execute_result"
    }
   ],
   "source": [
    "product_hierarchy"
   ]
  },
  {
   "cell_type": "code",
   "execution_count": 6,
   "id": "7221f4b9",
   "metadata": {},
   "outputs": [
    {
     "name": "stdout",
     "output_type": "stream",
     "text": [
      "<class 'pandas.core.frame.DataFrame'>\n",
      "Index: 18 entries, 0 to 17\n",
      "Data columns (total 4 columns):\n",
      " #   Column      Non-Null Count  Dtype  \n",
      "---  ------      --------------  -----  \n",
      " 0   id          18 non-null     int64  \n",
      " 1   parent_id   16 non-null     float64\n",
      " 2   level_text  18 non-null     object \n",
      " 3   level_name  18 non-null     object \n",
      "dtypes: float64(1), int64(1), object(2)\n",
      "memory usage: 720.0+ bytes\n"
     ]
    }
   ],
   "source": [
    "product_hierarchy.info()"
   ]
  },
  {
   "cell_type": "code",
   "execution_count": 7,
   "id": "464a481f",
   "metadata": {},
   "outputs": [
    {
     "data": {
      "text/html": [
       "<div>\n",
       "<style scoped>\n",
       "    .dataframe tbody tr th:only-of-type {\n",
       "        vertical-align: middle;\n",
       "    }\n",
       "\n",
       "    .dataframe tbody tr th {\n",
       "        vertical-align: top;\n",
       "    }\n",
       "\n",
       "    .dataframe thead th {\n",
       "        text-align: right;\n",
       "    }\n",
       "</style>\n",
       "<table border=\"1\" class=\"dataframe\">\n",
       "  <thead>\n",
       "    <tr style=\"text-align: right;\">\n",
       "      <th></th>\n",
       "      <th>id</th>\n",
       "      <th>product_id</th>\n",
       "      <th>price</th>\n",
       "    </tr>\n",
       "  </thead>\n",
       "  <tbody>\n",
       "    <tr>\n",
       "      <th>0</th>\n",
       "      <td>7</td>\n",
       "      <td>c4a632</td>\n",
       "      <td>13</td>\n",
       "    </tr>\n",
       "    <tr>\n",
       "      <th>1</th>\n",
       "      <td>8</td>\n",
       "      <td>e83aa3</td>\n",
       "      <td>32</td>\n",
       "    </tr>\n",
       "    <tr>\n",
       "      <th>2</th>\n",
       "      <td>9</td>\n",
       "      <td>e31d39</td>\n",
       "      <td>10</td>\n",
       "    </tr>\n",
       "    <tr>\n",
       "      <th>3</th>\n",
       "      <td>10</td>\n",
       "      <td>d5e9a6</td>\n",
       "      <td>23</td>\n",
       "    </tr>\n",
       "    <tr>\n",
       "      <th>4</th>\n",
       "      <td>11</td>\n",
       "      <td>72f5d4</td>\n",
       "      <td>19</td>\n",
       "    </tr>\n",
       "    <tr>\n",
       "      <th>5</th>\n",
       "      <td>12</td>\n",
       "      <td>9ec847</td>\n",
       "      <td>54</td>\n",
       "    </tr>\n",
       "    <tr>\n",
       "      <th>6</th>\n",
       "      <td>13</td>\n",
       "      <td>5d267b</td>\n",
       "      <td>40</td>\n",
       "    </tr>\n",
       "    <tr>\n",
       "      <th>7</th>\n",
       "      <td>14</td>\n",
       "      <td>c8d436</td>\n",
       "      <td>10</td>\n",
       "    </tr>\n",
       "    <tr>\n",
       "      <th>8</th>\n",
       "      <td>15</td>\n",
       "      <td>2a2353</td>\n",
       "      <td>57</td>\n",
       "    </tr>\n",
       "    <tr>\n",
       "      <th>9</th>\n",
       "      <td>16</td>\n",
       "      <td>f084eb</td>\n",
       "      <td>36</td>\n",
       "    </tr>\n",
       "    <tr>\n",
       "      <th>10</th>\n",
       "      <td>17</td>\n",
       "      <td>b9a74d</td>\n",
       "      <td>17</td>\n",
       "    </tr>\n",
       "    <tr>\n",
       "      <th>11</th>\n",
       "      <td>18</td>\n",
       "      <td>2feb6b</td>\n",
       "      <td>29</td>\n",
       "    </tr>\n",
       "  </tbody>\n",
       "</table>\n",
       "</div>"
      ],
      "text/plain": [
       "    id product_id  price\n",
       "0    7     c4a632     13\n",
       "1    8     e83aa3     32\n",
       "2    9     e31d39     10\n",
       "3   10     d5e9a6     23\n",
       "4   11     72f5d4     19\n",
       "5   12     9ec847     54\n",
       "6   13     5d267b     40\n",
       "7   14     c8d436     10\n",
       "8   15     2a2353     57\n",
       "9   16     f084eb     36\n",
       "10  17     b9a74d     17\n",
       "11  18     2feb6b     29"
      ]
     },
     "execution_count": 7,
     "metadata": {},
     "output_type": "execute_result"
    }
   ],
   "source": [
    "product_prices"
   ]
  },
  {
   "cell_type": "code",
   "execution_count": 8,
   "id": "ec7307db",
   "metadata": {},
   "outputs": [
    {
     "name": "stdout",
     "output_type": "stream",
     "text": [
      "<class 'pandas.core.frame.DataFrame'>\n",
      "Index: 12 entries, 0 to 11\n",
      "Data columns (total 3 columns):\n",
      " #   Column      Non-Null Count  Dtype \n",
      "---  ------      --------------  ----- \n",
      " 0   id          12 non-null     int64 \n",
      " 1   product_id  12 non-null     object\n",
      " 2   price       12 non-null     int64 \n",
      "dtypes: int64(2), object(1)\n",
      "memory usage: 384.0+ bytes\n"
     ]
    }
   ],
   "source": [
    "product_prices.info()"
   ]
  },
  {
   "cell_type": "code",
   "execution_count": 12,
   "id": "980e83df",
   "metadata": {},
   "outputs": [
    {
     "data": {
      "text/plain": [
       "(12, 3)"
      ]
     },
     "execution_count": 12,
     "metadata": {},
     "output_type": "execute_result"
    }
   ],
   "source": [
    "product_prices.shape"
   ]
  },
  {
   "cell_type": "code",
   "execution_count": 9,
   "id": "25aecb96",
   "metadata": {},
   "outputs": [
    {
     "data": {
      "text/html": [
       "<div>\n",
       "<style scoped>\n",
       "    .dataframe tbody tr th:only-of-type {\n",
       "        vertical-align: middle;\n",
       "    }\n",
       "\n",
       "    .dataframe tbody tr th {\n",
       "        vertical-align: top;\n",
       "    }\n",
       "\n",
       "    .dataframe thead th {\n",
       "        text-align: right;\n",
       "    }\n",
       "</style>\n",
       "<table border=\"1\" class=\"dataframe\">\n",
       "  <thead>\n",
       "    <tr style=\"text-align: right;\">\n",
       "      <th></th>\n",
       "      <th>prod_id</th>\n",
       "      <th>qty</th>\n",
       "      <th>price</th>\n",
       "      <th>discount</th>\n",
       "      <th>member</th>\n",
       "      <th>txn_id</th>\n",
       "      <th>start_txn_time</th>\n",
       "    </tr>\n",
       "  </thead>\n",
       "  <tbody>\n",
       "    <tr>\n",
       "      <th>0</th>\n",
       "      <td>c4a632</td>\n",
       "      <td>4</td>\n",
       "      <td>13</td>\n",
       "      <td>17</td>\n",
       "      <td>t</td>\n",
       "      <td>54f307</td>\n",
       "      <td>2021-02-13 01:59:43.296</td>\n",
       "    </tr>\n",
       "    <tr>\n",
       "      <th>1</th>\n",
       "      <td>5d267b</td>\n",
       "      <td>4</td>\n",
       "      <td>40</td>\n",
       "      <td>17</td>\n",
       "      <td>t</td>\n",
       "      <td>54f307</td>\n",
       "      <td>2021-02-13 01:59:43.296</td>\n",
       "    </tr>\n",
       "    <tr>\n",
       "      <th>2</th>\n",
       "      <td>b9a74d</td>\n",
       "      <td>4</td>\n",
       "      <td>17</td>\n",
       "      <td>17</td>\n",
       "      <td>t</td>\n",
       "      <td>54f307</td>\n",
       "      <td>2021-02-13 01:59:43.296</td>\n",
       "    </tr>\n",
       "    <tr>\n",
       "      <th>3</th>\n",
       "      <td>2feb6b</td>\n",
       "      <td>2</td>\n",
       "      <td>29</td>\n",
       "      <td>17</td>\n",
       "      <td>t</td>\n",
       "      <td>54f307</td>\n",
       "      <td>2021-02-13 01:59:43.296</td>\n",
       "    </tr>\n",
       "    <tr>\n",
       "      <th>4</th>\n",
       "      <td>c4a632</td>\n",
       "      <td>5</td>\n",
       "      <td>13</td>\n",
       "      <td>21</td>\n",
       "      <td>t</td>\n",
       "      <td>26cc98</td>\n",
       "      <td>2021-01-19 01:39:00.3456</td>\n",
       "    </tr>\n",
       "    <tr>\n",
       "      <th>...</th>\n",
       "      <td>...</td>\n",
       "      <td>...</td>\n",
       "      <td>...</td>\n",
       "      <td>...</td>\n",
       "      <td>...</td>\n",
       "      <td>...</td>\n",
       "      <td>...</td>\n",
       "    </tr>\n",
       "    <tr>\n",
       "      <th>15090</th>\n",
       "      <td>9ec847</td>\n",
       "      <td>1</td>\n",
       "      <td>54</td>\n",
       "      <td>13</td>\n",
       "      <td>t</td>\n",
       "      <td>f15ab3</td>\n",
       "      <td>2021-03-20 12:01:22.944</td>\n",
       "    </tr>\n",
       "    <tr>\n",
       "      <th>15091</th>\n",
       "      <td>2a2353</td>\n",
       "      <td>3</td>\n",
       "      <td>57</td>\n",
       "      <td>13</td>\n",
       "      <td>t</td>\n",
       "      <td>f15ab3</td>\n",
       "      <td>2021-03-20 12:01:22.944</td>\n",
       "    </tr>\n",
       "    <tr>\n",
       "      <th>15092</th>\n",
       "      <td>e83aa3</td>\n",
       "      <td>5</td>\n",
       "      <td>32</td>\n",
       "      <td>1</td>\n",
       "      <td>t</td>\n",
       "      <td>93620b</td>\n",
       "      <td>2021-03-01 07:11:24.6624</td>\n",
       "    </tr>\n",
       "    <tr>\n",
       "      <th>15093</th>\n",
       "      <td>d5e9a6</td>\n",
       "      <td>2</td>\n",
       "      <td>23</td>\n",
       "      <td>1</td>\n",
       "      <td>t</td>\n",
       "      <td>93620b</td>\n",
       "      <td>2021-03-01 07:11:24.6624</td>\n",
       "    </tr>\n",
       "    <tr>\n",
       "      <th>15094</th>\n",
       "      <td>5d267b</td>\n",
       "      <td>2</td>\n",
       "      <td>40</td>\n",
       "      <td>1</td>\n",
       "      <td>t</td>\n",
       "      <td>93620b</td>\n",
       "      <td>2021-03-01 07:11:24.6624</td>\n",
       "    </tr>\n",
       "  </tbody>\n",
       "</table>\n",
       "<p>15095 rows × 7 columns</p>\n",
       "</div>"
      ],
      "text/plain": [
       "      prod_id  qty  price  discount member  txn_id            start_txn_time\n",
       "0      c4a632    4     13        17      t  54f307   2021-02-13 01:59:43.296\n",
       "1      5d267b    4     40        17      t  54f307   2021-02-13 01:59:43.296\n",
       "2      b9a74d    4     17        17      t  54f307   2021-02-13 01:59:43.296\n",
       "3      2feb6b    2     29        17      t  54f307   2021-02-13 01:59:43.296\n",
       "4      c4a632    5     13        21      t  26cc98  2021-01-19 01:39:00.3456\n",
       "...       ...  ...    ...       ...    ...     ...                       ...\n",
       "15090  9ec847    1     54        13      t  f15ab3   2021-03-20 12:01:22.944\n",
       "15091  2a2353    3     57        13      t  f15ab3   2021-03-20 12:01:22.944\n",
       "15092  e83aa3    5     32         1      t  93620b  2021-03-01 07:11:24.6624\n",
       "15093  d5e9a6    2     23         1      t  93620b  2021-03-01 07:11:24.6624\n",
       "15094  5d267b    2     40         1      t  93620b  2021-03-01 07:11:24.6624\n",
       "\n",
       "[15095 rows x 7 columns]"
      ]
     },
     "execution_count": 9,
     "metadata": {},
     "output_type": "execute_result"
    }
   ],
   "source": [
    "sales"
   ]
  },
  {
   "cell_type": "code",
   "execution_count": 10,
   "id": "440bec59",
   "metadata": {},
   "outputs": [
    {
     "name": "stdout",
     "output_type": "stream",
     "text": [
      "<class 'pandas.core.frame.DataFrame'>\n",
      "Index: 15095 entries, 0 to 15094\n",
      "Data columns (total 7 columns):\n",
      " #   Column          Non-Null Count  Dtype \n",
      "---  ------          --------------  ----- \n",
      " 0   prod_id         15095 non-null  object\n",
      " 1   qty             15095 non-null  int64 \n",
      " 2   price           15095 non-null  int64 \n",
      " 3   discount        15095 non-null  int64 \n",
      " 4   member          15095 non-null  object\n",
      " 5   txn_id          15095 non-null  object\n",
      " 6   start_txn_time  15095 non-null  object\n",
      "dtypes: int64(3), object(4)\n",
      "memory usage: 943.4+ KB\n"
     ]
    }
   ],
   "source": [
    "sales.info()"
   ]
  },
  {
   "cell_type": "code",
   "execution_count": null,
   "id": "d0b84616",
   "metadata": {},
   "outputs": [],
   "source": []
  },
  {
   "cell_type": "markdown",
   "id": "cae9dd07",
   "metadata": {},
   "source": [
    "## Map \n",
    " - It is a series function to do mapping. \n",
    " - it is map through **elementwise.** \n",
    "## Apply\n",
    " - it is both series and Dataframe function.\n",
    " - apply applies any function **elementwise to the series** where as in **dataframe** that function will **apply at a time** in any **axis**.\n",
    "## Applymap  \n",
    " - It is a **Dataframe function** \n",
    " - any function we pass will be applied on **elementwise**\n"
   ]
  },
  {
   "cell_type": "code",
   "execution_count": 18,
   "id": "f9a1540d",
   "metadata": {},
   "outputs": [],
   "source": [
    "sales['start_txn_time'] =sales['start_txn_time'].apply(pd.to_datetime)"
   ]
  },
  {
   "cell_type": "code",
   "execution_count": 19,
   "id": "836439fb",
   "metadata": {},
   "outputs": [
    {
     "name": "stdout",
     "output_type": "stream",
     "text": [
      "<class 'pandas.core.frame.DataFrame'>\n",
      "Index: 15095 entries, 0 to 15094\n",
      "Data columns (total 7 columns):\n",
      " #   Column          Non-Null Count  Dtype         \n",
      "---  ------          --------------  -----         \n",
      " 0   prod_id         15095 non-null  object        \n",
      " 1   qty             15095 non-null  int64         \n",
      " 2   price           15095 non-null  int64         \n",
      " 3   discount        15095 non-null  int64         \n",
      " 4   member          15095 non-null  object        \n",
      " 5   txn_id          15095 non-null  object        \n",
      " 6   start_txn_time  15095 non-null  datetime64[ns]\n",
      "dtypes: datetime64[ns](1), int64(3), object(3)\n",
      "memory usage: 943.4+ KB\n"
     ]
    }
   ],
   "source": [
    "sales.info()"
   ]
  },
  {
   "cell_type": "code",
   "execution_count": 20,
   "id": "144f4e0c",
   "metadata": {},
   "outputs": [
    {
     "data": {
      "text/html": [
       "<div>\n",
       "<style scoped>\n",
       "    .dataframe tbody tr th:only-of-type {\n",
       "        vertical-align: middle;\n",
       "    }\n",
       "\n",
       "    .dataframe tbody tr th {\n",
       "        vertical-align: top;\n",
       "    }\n",
       "\n",
       "    .dataframe thead th {\n",
       "        text-align: right;\n",
       "    }\n",
       "</style>\n",
       "<table border=\"1\" class=\"dataframe\">\n",
       "  <thead>\n",
       "    <tr style=\"text-align: right;\">\n",
       "      <th></th>\n",
       "      <th>prod_id</th>\n",
       "      <th>qty</th>\n",
       "      <th>price</th>\n",
       "      <th>discount</th>\n",
       "      <th>member</th>\n",
       "      <th>txn_id</th>\n",
       "      <th>start_txn_time</th>\n",
       "    </tr>\n",
       "  </thead>\n",
       "  <tbody>\n",
       "    <tr>\n",
       "      <th>0</th>\n",
       "      <td>c4a632</td>\n",
       "      <td>4</td>\n",
       "      <td>13</td>\n",
       "      <td>17</td>\n",
       "      <td>t</td>\n",
       "      <td>54f307</td>\n",
       "      <td>2021-02-13 01:59:43.296000</td>\n",
       "    </tr>\n",
       "    <tr>\n",
       "      <th>1</th>\n",
       "      <td>5d267b</td>\n",
       "      <td>4</td>\n",
       "      <td>40</td>\n",
       "      <td>17</td>\n",
       "      <td>t</td>\n",
       "      <td>54f307</td>\n",
       "      <td>2021-02-13 01:59:43.296000</td>\n",
       "    </tr>\n",
       "    <tr>\n",
       "      <th>2</th>\n",
       "      <td>b9a74d</td>\n",
       "      <td>4</td>\n",
       "      <td>17</td>\n",
       "      <td>17</td>\n",
       "      <td>t</td>\n",
       "      <td>54f307</td>\n",
       "      <td>2021-02-13 01:59:43.296000</td>\n",
       "    </tr>\n",
       "    <tr>\n",
       "      <th>3</th>\n",
       "      <td>2feb6b</td>\n",
       "      <td>2</td>\n",
       "      <td>29</td>\n",
       "      <td>17</td>\n",
       "      <td>t</td>\n",
       "      <td>54f307</td>\n",
       "      <td>2021-02-13 01:59:43.296000</td>\n",
       "    </tr>\n",
       "    <tr>\n",
       "      <th>4</th>\n",
       "      <td>c4a632</td>\n",
       "      <td>5</td>\n",
       "      <td>13</td>\n",
       "      <td>21</td>\n",
       "      <td>t</td>\n",
       "      <td>26cc98</td>\n",
       "      <td>2021-01-19 01:39:00.345600</td>\n",
       "    </tr>\n",
       "    <tr>\n",
       "      <th>...</th>\n",
       "      <td>...</td>\n",
       "      <td>...</td>\n",
       "      <td>...</td>\n",
       "      <td>...</td>\n",
       "      <td>...</td>\n",
       "      <td>...</td>\n",
       "      <td>...</td>\n",
       "    </tr>\n",
       "    <tr>\n",
       "      <th>15090</th>\n",
       "      <td>9ec847</td>\n",
       "      <td>1</td>\n",
       "      <td>54</td>\n",
       "      <td>13</td>\n",
       "      <td>t</td>\n",
       "      <td>f15ab3</td>\n",
       "      <td>2021-03-20 12:01:22.944000</td>\n",
       "    </tr>\n",
       "    <tr>\n",
       "      <th>15091</th>\n",
       "      <td>2a2353</td>\n",
       "      <td>3</td>\n",
       "      <td>57</td>\n",
       "      <td>13</td>\n",
       "      <td>t</td>\n",
       "      <td>f15ab3</td>\n",
       "      <td>2021-03-20 12:01:22.944000</td>\n",
       "    </tr>\n",
       "    <tr>\n",
       "      <th>15092</th>\n",
       "      <td>e83aa3</td>\n",
       "      <td>5</td>\n",
       "      <td>32</td>\n",
       "      <td>1</td>\n",
       "      <td>t</td>\n",
       "      <td>93620b</td>\n",
       "      <td>2021-03-01 07:11:24.662400</td>\n",
       "    </tr>\n",
       "    <tr>\n",
       "      <th>15093</th>\n",
       "      <td>d5e9a6</td>\n",
       "      <td>2</td>\n",
       "      <td>23</td>\n",
       "      <td>1</td>\n",
       "      <td>t</td>\n",
       "      <td>93620b</td>\n",
       "      <td>2021-03-01 07:11:24.662400</td>\n",
       "    </tr>\n",
       "    <tr>\n",
       "      <th>15094</th>\n",
       "      <td>5d267b</td>\n",
       "      <td>2</td>\n",
       "      <td>40</td>\n",
       "      <td>1</td>\n",
       "      <td>t</td>\n",
       "      <td>93620b</td>\n",
       "      <td>2021-03-01 07:11:24.662400</td>\n",
       "    </tr>\n",
       "  </tbody>\n",
       "</table>\n",
       "<p>15095 rows × 7 columns</p>\n",
       "</div>"
      ],
      "text/plain": [
       "      prod_id  qty  price  discount member  txn_id             start_txn_time\n",
       "0      c4a632    4     13        17      t  54f307 2021-02-13 01:59:43.296000\n",
       "1      5d267b    4     40        17      t  54f307 2021-02-13 01:59:43.296000\n",
       "2      b9a74d    4     17        17      t  54f307 2021-02-13 01:59:43.296000\n",
       "3      2feb6b    2     29        17      t  54f307 2021-02-13 01:59:43.296000\n",
       "4      c4a632    5     13        21      t  26cc98 2021-01-19 01:39:00.345600\n",
       "...       ...  ...    ...       ...    ...     ...                        ...\n",
       "15090  9ec847    1     54        13      t  f15ab3 2021-03-20 12:01:22.944000\n",
       "15091  2a2353    3     57        13      t  f15ab3 2021-03-20 12:01:22.944000\n",
       "15092  e83aa3    5     32         1      t  93620b 2021-03-01 07:11:24.662400\n",
       "15093  d5e9a6    2     23         1      t  93620b 2021-03-01 07:11:24.662400\n",
       "15094  5d267b    2     40         1      t  93620b 2021-03-01 07:11:24.662400\n",
       "\n",
       "[15095 rows x 7 columns]"
      ]
     },
     "execution_count": 20,
     "metadata": {},
     "output_type": "execute_result"
    }
   ],
   "source": [
    "sales"
   ]
  },
  {
   "cell_type": "code",
   "execution_count": null,
   "id": "19fe11bd",
   "metadata": {},
   "outputs": [],
   "source": []
  },
  {
   "cell_type": "markdown",
   "id": "d660f2a5",
   "metadata": {},
   "source": [
    "# High Level Sales Analysis"
   ]
  },
  {
   "cell_type": "markdown",
   "id": "f6d414c8",
   "metadata": {},
   "source": [
    "## 1.What was the total quantity sold for all products?"
   ]
  },
  {
   "cell_type": "code",
   "execution_count": 22,
   "id": "26b9cf7d",
   "metadata": {},
   "outputs": [
    {
     "data": {
      "text/plain": [
       "45216"
      ]
     },
     "execution_count": 22,
     "metadata": {},
     "output_type": "execute_result"
    }
   ],
   "source": [
    "total_quantity = sales['qty'].sum()\n",
    "total_quantity"
   ]
  },
  {
   "cell_type": "markdown",
   "id": "6f2f64eb",
   "metadata": {},
   "source": [
    "## 2. What is the total generated revenue for all products before discounts?"
   ]
  },
  {
   "cell_type": "code",
   "execution_count": 24,
   "id": "ac277c1a",
   "metadata": {},
   "outputs": [
    {
     "data": {
      "text/plain": [
       "1289453"
      ]
     },
     "execution_count": 24,
     "metadata": {},
     "output_type": "execute_result"
    }
   ],
   "source": [
    "revenue_before_discounts = (sales['qty'] * sales['price']).sum()\n",
    "revenue_before_discounts"
   ]
  },
  {
   "cell_type": "code",
   "execution_count": 15,
   "id": "c4dade85",
   "metadata": {},
   "outputs": [
    {
     "data": {
      "text/html": [
       "<div>\n",
       "<style scoped>\n",
       "    .dataframe tbody tr th:only-of-type {\n",
       "        vertical-align: middle;\n",
       "    }\n",
       "\n",
       "    .dataframe tbody tr th {\n",
       "        vertical-align: top;\n",
       "    }\n",
       "\n",
       "    .dataframe thead th {\n",
       "        text-align: right;\n",
       "    }\n",
       "</style>\n",
       "<table border=\"1\" class=\"dataframe\">\n",
       "  <thead>\n",
       "    <tr style=\"text-align: right;\">\n",
       "      <th></th>\n",
       "      <th>prod_id</th>\n",
       "      <th>qty</th>\n",
       "      <th>price</th>\n",
       "      <th>discount</th>\n",
       "      <th>member</th>\n",
       "      <th>txn_id</th>\n",
       "      <th>start_txn_time</th>\n",
       "    </tr>\n",
       "  </thead>\n",
       "  <tbody>\n",
       "    <tr>\n",
       "      <th>0</th>\n",
       "      <td>c4a632</td>\n",
       "      <td>4</td>\n",
       "      <td>13</td>\n",
       "      <td>17</td>\n",
       "      <td>t</td>\n",
       "      <td>54f307</td>\n",
       "      <td>2021-02-13 01:59:43.296</td>\n",
       "    </tr>\n",
       "    <tr>\n",
       "      <th>1</th>\n",
       "      <td>5d267b</td>\n",
       "      <td>4</td>\n",
       "      <td>40</td>\n",
       "      <td>17</td>\n",
       "      <td>t</td>\n",
       "      <td>54f307</td>\n",
       "      <td>2021-02-13 01:59:43.296</td>\n",
       "    </tr>\n",
       "    <tr>\n",
       "      <th>2</th>\n",
       "      <td>b9a74d</td>\n",
       "      <td>4</td>\n",
       "      <td>17</td>\n",
       "      <td>17</td>\n",
       "      <td>t</td>\n",
       "      <td>54f307</td>\n",
       "      <td>2021-02-13 01:59:43.296</td>\n",
       "    </tr>\n",
       "    <tr>\n",
       "      <th>3</th>\n",
       "      <td>2feb6b</td>\n",
       "      <td>2</td>\n",
       "      <td>29</td>\n",
       "      <td>17</td>\n",
       "      <td>t</td>\n",
       "      <td>54f307</td>\n",
       "      <td>2021-02-13 01:59:43.296</td>\n",
       "    </tr>\n",
       "    <tr>\n",
       "      <th>4</th>\n",
       "      <td>c4a632</td>\n",
       "      <td>5</td>\n",
       "      <td>13</td>\n",
       "      <td>21</td>\n",
       "      <td>t</td>\n",
       "      <td>26cc98</td>\n",
       "      <td>2021-01-19 01:39:00.3456</td>\n",
       "    </tr>\n",
       "    <tr>\n",
       "      <th>...</th>\n",
       "      <td>...</td>\n",
       "      <td>...</td>\n",
       "      <td>...</td>\n",
       "      <td>...</td>\n",
       "      <td>...</td>\n",
       "      <td>...</td>\n",
       "      <td>...</td>\n",
       "    </tr>\n",
       "    <tr>\n",
       "      <th>15090</th>\n",
       "      <td>9ec847</td>\n",
       "      <td>1</td>\n",
       "      <td>54</td>\n",
       "      <td>13</td>\n",
       "      <td>t</td>\n",
       "      <td>f15ab3</td>\n",
       "      <td>2021-03-20 12:01:22.944</td>\n",
       "    </tr>\n",
       "    <tr>\n",
       "      <th>15091</th>\n",
       "      <td>2a2353</td>\n",
       "      <td>3</td>\n",
       "      <td>57</td>\n",
       "      <td>13</td>\n",
       "      <td>t</td>\n",
       "      <td>f15ab3</td>\n",
       "      <td>2021-03-20 12:01:22.944</td>\n",
       "    </tr>\n",
       "    <tr>\n",
       "      <th>15092</th>\n",
       "      <td>e83aa3</td>\n",
       "      <td>5</td>\n",
       "      <td>32</td>\n",
       "      <td>1</td>\n",
       "      <td>t</td>\n",
       "      <td>93620b</td>\n",
       "      <td>2021-03-01 07:11:24.6624</td>\n",
       "    </tr>\n",
       "    <tr>\n",
       "      <th>15093</th>\n",
       "      <td>d5e9a6</td>\n",
       "      <td>2</td>\n",
       "      <td>23</td>\n",
       "      <td>1</td>\n",
       "      <td>t</td>\n",
       "      <td>93620b</td>\n",
       "      <td>2021-03-01 07:11:24.6624</td>\n",
       "    </tr>\n",
       "    <tr>\n",
       "      <th>15094</th>\n",
       "      <td>5d267b</td>\n",
       "      <td>2</td>\n",
       "      <td>40</td>\n",
       "      <td>1</td>\n",
       "      <td>t</td>\n",
       "      <td>93620b</td>\n",
       "      <td>2021-03-01 07:11:24.6624</td>\n",
       "    </tr>\n",
       "  </tbody>\n",
       "</table>\n",
       "<p>15095 rows × 7 columns</p>\n",
       "</div>"
      ],
      "text/plain": [
       "      prod_id  qty  price  discount member  txn_id            start_txn_time\n",
       "0      c4a632    4     13        17      t  54f307   2021-02-13 01:59:43.296\n",
       "1      5d267b    4     40        17      t  54f307   2021-02-13 01:59:43.296\n",
       "2      b9a74d    4     17        17      t  54f307   2021-02-13 01:59:43.296\n",
       "3      2feb6b    2     29        17      t  54f307   2021-02-13 01:59:43.296\n",
       "4      c4a632    5     13        21      t  26cc98  2021-01-19 01:39:00.3456\n",
       "...       ...  ...    ...       ...    ...     ...                       ...\n",
       "15090  9ec847    1     54        13      t  f15ab3   2021-03-20 12:01:22.944\n",
       "15091  2a2353    3     57        13      t  f15ab3   2021-03-20 12:01:22.944\n",
       "15092  e83aa3    5     32         1      t  93620b  2021-03-01 07:11:24.6624\n",
       "15093  d5e9a6    2     23         1      t  93620b  2021-03-01 07:11:24.6624\n",
       "15094  5d267b    2     40         1      t  93620b  2021-03-01 07:11:24.6624\n",
       "\n",
       "[15095 rows x 7 columns]"
      ]
     },
     "execution_count": 15,
     "metadata": {},
     "output_type": "execute_result"
    }
   ],
   "source": [
    "sales"
   ]
  },
  {
   "cell_type": "markdown",
   "id": "650e6fd7",
   "metadata": {},
   "source": [
    "## 3. What was the total discount amount for all products?"
   ]
  },
  {
   "cell_type": "code",
   "execution_count": 5,
   "id": "7c82d2f0",
   "metadata": {},
   "outputs": [
    {
     "data": {
      "text/plain": [
       "156229.14"
      ]
     },
     "execution_count": 5,
     "metadata": {},
     "output_type": "execute_result"
    }
   ],
   "source": [
    "total_discount = (sales['qty'] * sales['price'] * sales['discount'] / 100.0).sum()\n",
    "total_discount"
   ]
  },
  {
   "cell_type": "code",
   "execution_count": 6,
   "id": "8bcb12e0",
   "metadata": {},
   "outputs": [
    {
     "data": {
      "text/plain": [
       "156229.14"
      ]
     },
     "execution_count": 6,
     "metadata": {},
     "output_type": "execute_result"
    }
   ],
   "source": [
    "(sales['qty'] * sales['price']*sales['discount']/100.0).sum()"
   ]
  },
  {
   "cell_type": "code",
   "execution_count": null,
   "id": "43d56290",
   "metadata": {},
   "outputs": [],
   "source": []
  },
  {
   "cell_type": "markdown",
   "id": "fe11cc94",
   "metadata": {},
   "source": [
    "# Transaction Analysis"
   ]
  },
  {
   "cell_type": "markdown",
   "id": "b78a5ac8",
   "metadata": {},
   "source": [
    "## 1. How many unique transactions were there?"
   ]
  },
  {
   "cell_type": "code",
   "execution_count": 26,
   "id": "78735d0f",
   "metadata": {},
   "outputs": [
    {
     "data": {
      "text/plain": [
       "2500"
      ]
     },
     "execution_count": 26,
     "metadata": {},
     "output_type": "execute_result"
    }
   ],
   "source": [
    "unique_transactions = sales['txn_id'].nunique()\n",
    "unique_transactions"
   ]
  },
  {
   "cell_type": "code",
   "execution_count": null,
   "id": "446284f3",
   "metadata": {},
   "outputs": [],
   "source": []
  },
  {
   "cell_type": "markdown",
   "id": "eb8a0e5f",
   "metadata": {},
   "source": [
    "## 2. What is the average unique products purchased in each transaction?"
   ]
  },
  {
   "cell_type": "code",
   "execution_count": 7,
   "id": "68e052c3",
   "metadata": {},
   "outputs": [
    {
     "data": {
      "text/plain": [
       "6.038"
      ]
     },
     "execution_count": 7,
     "metadata": {},
     "output_type": "execute_result"
    }
   ],
   "source": [
    "# Create a temporary DataFrame with counts of distinct 'prod_id' for each 'txn_id'\n",
    "temp_df = sales.groupby('txn_id')['prod_id'].nunique().reset_index(name='product_count')\n",
    "\n",
    "# Calculate the average of 'product_count' from the temporary DataFrame\n",
    "avg_unique_products = temp_df['product_count'].mean()\n",
    "\n",
    "avg_unique_products\n"
   ]
  },
  {
   "cell_type": "code",
   "execution_count": 8,
   "id": "ae9b366e",
   "metadata": {},
   "outputs": [
    {
     "data": {
      "text/plain": [
       "<Axes: ylabel='Frequency'>"
      ]
     },
     "execution_count": 8,
     "metadata": {},
     "output_type": "execute_result"
    },
    {
     "data": {
      "image/png": "[encoded data removed]",
      "text/plain": [
       "<Figure size 640x480 with 1 Axes>"
      ]
     },
     "metadata": {},
     "output_type": "display_data"
    }
   ],
   "source": [
    "temp_df['product_count'].plot(kind='hist')"
   ]
  },
  {
   "cell_type": "code",
   "execution_count": 13,
   "id": "abda404d",
   "metadata": {},
   "outputs": [
    {
     "data": {
      "text/plain": [
       "6.0"
      ]
     },
     "execution_count": 13,
     "metadata": {},
     "output_type": "execute_result"
    }
   ],
   "source": [
    "# Create a temporary DataFrame with counts of distinct 'prod_id' for each 'txn_id'\n",
    "temp_df = sales.groupby('txn_id')['prod_id'].nunique().reset_index(name='product_count')\n",
    "\n",
    "# Calculate the average of 'product_count' from the temporary DataFrame\n",
    "avg_unique_products = temp_df['product_count'].median()\n",
    "\n",
    "avg_unique_products"
   ]
  },
  {
   "cell_type": "code",
   "execution_count": null,
   "id": "58f6e3d2",
   "metadata": {},
   "outputs": [],
   "source": []
  },
  {
   "cell_type": "markdown",
   "id": "f58de2b7",
   "metadata": {},
   "source": [
    "## 3. What are the 25th, 50th and 75th percentile values for the revenue per transaction?"
   ]
  },
  {
   "cell_type": "code",
   "execution_count": 29,
   "id": "e5166b31",
   "metadata": {},
   "outputs": [
    {
     "name": "stdout",
     "output_type": "stream",
     "text": [
      "25th Percentile: 375.75\n",
      "50th Percentile (Median): 509.5\n",
      "75th Percentile: 647.0\n"
     ]
    }
   ],
   "source": [
    "# Create a temporary DataFrame with the sum of revenue for each 'txn_id'\n",
    "transaction_revenue = sales.groupby('txn_id')[['qty', 'price']].apply(lambda x: (x['qty'] * x['price']).sum()).reset_index(name='revenue')\n",
    "\n",
    "# Calculate percentiles using the 'quantile' function\n",
    "pct_25th = transaction_revenue['revenue'].quantile(0.25)\n",
    "pct_50th = transaction_revenue['revenue'].quantile(0.50)\n",
    "pct_75th = transaction_revenue['revenue'].quantile(0.75)\n",
    "\n",
    "# Print the results or use them as needed\n",
    "print(\"25th Percentile:\", pct_25th)\n",
    "print(\"50th Percentile (Median):\", pct_50th)\n",
    "print(\"75th Percentile:\", pct_75th)"
   ]
  },
  {
   "cell_type": "code",
   "execution_count": null,
   "id": "8e16e0c3",
   "metadata": {},
   "outputs": [],
   "source": []
  },
  {
   "cell_type": "markdown",
   "id": "ec99baa3",
   "metadata": {},
   "source": [
    "## 4. What is the average discount value per transaction?"
   ]
  },
  {
   "cell_type": "code",
   "execution_count": 30,
   "id": "44004cdd",
   "metadata": {},
   "outputs": [
    {
     "data": {
      "text/plain": [
       "62.491656000000006"
      ]
     },
     "execution_count": 30,
     "metadata": {},
     "output_type": "execute_result"
    }
   ],
   "source": [
    "# Create a temporary DataFrame with the sum of total discount for each 'txn_id'\n",
    "temp_df = sales.groupby('txn_id').apply(lambda x: (x['qty'] * x['price'] * x['discount'] / 100.0).sum()).reset_index(name='total_discount')\n",
    "\n",
    "# Calculate the average of 'total_discount' from the temporary DataFrame\n",
    "avg_discount_per_transaction = temp_df['total_discount'].mean()\n",
    "avg_discount_per_transaction"
   ]
  },
  {
   "cell_type": "code",
   "execution_count": null,
   "id": "548fc8d1",
   "metadata": {},
   "outputs": [],
   "source": []
  },
  {
   "cell_type": "markdown",
   "id": "c7739583",
   "metadata": {},
   "source": [
    "## 5. What is the percentage split of all transactions for members vs non-members?"
   ]
  },
  {
   "cell_type": "code",
   "execution_count": 40,
   "id": "33db0912",
   "metadata": {},
   "outputs": [
    {
     "name": "stdout",
     "output_type": "stream",
     "text": [
      "Members Percentage: 60.2\n",
      "Non-Members Percentage: 39.8\n"
     ]
    }
   ],
   "source": [
    "# Calculate the percentage split of transactions for members and non-members\n",
    "members_pct = 100.0 * sales[sales['member'] == 't']['txn_id'].nunique() / sales['txn_id'].nunique()\n",
    "non_members_pct = 100.0 * sales[sales['member'] == 'f']['txn_id'].nunique() / sales['txn_id'].nunique()\n",
    "\n",
    "# Print the results or use them as needed\n",
    "print(\"Members Percentage:\", members_pct)\n",
    "print(\"Non-Members Percentage:\", non_members_pct)"
   ]
  },
  {
   "cell_type": "code",
   "execution_count": null,
   "id": "00d64644",
   "metadata": {},
   "outputs": [],
   "source": []
  },
  {
   "cell_type": "markdown",
   "id": "c3757fd8",
   "metadata": {},
   "source": [
    "## 6. What is the average revenue for member transactions and non-member transactions?"
   ]
  },
  {
   "cell_type": "code",
   "execution_count": 41,
   "id": "4f2f975b",
   "metadata": {},
   "outputs": [
    {
     "data": {
      "text/html": [
       "<div>\n",
       "<style scoped>\n",
       "    .dataframe tbody tr th:only-of-type {\n",
       "        vertical-align: middle;\n",
       "    }\n",
       "\n",
       "    .dataframe tbody tr th {\n",
       "        vertical-align: top;\n",
       "    }\n",
       "\n",
       "    .dataframe thead th {\n",
       "        text-align: right;\n",
       "    }\n",
       "</style>\n",
       "<table border=\"1\" class=\"dataframe\">\n",
       "  <thead>\n",
       "    <tr style=\"text-align: right;\">\n",
       "      <th></th>\n",
       "      <th>member</th>\n",
       "      <th>avg_revenue</th>\n",
       "    </tr>\n",
       "  </thead>\n",
       "  <tbody>\n",
       "    <tr>\n",
       "      <th>0</th>\n",
       "      <td>f</td>\n",
       "      <td>515.044221</td>\n",
       "    </tr>\n",
       "    <tr>\n",
       "      <th>1</th>\n",
       "      <td>t</td>\n",
       "      <td>516.268439</td>\n",
       "    </tr>\n",
       "  </tbody>\n",
       "</table>\n",
       "</div>"
      ],
      "text/plain": [
       "  member  avg_revenue\n",
       "0      f   515.044221\n",
       "1      t   516.268439"
      ]
     },
     "execution_count": 41,
     "metadata": {},
     "output_type": "execute_result"
    }
   ],
   "source": [
    "# Create a temporary DataFrame with the sum of revenue for each member and transaction\n",
    "member_revenue = sales.groupby(['member', 'txn_id']).apply(lambda x: (x['qty'] * x['price']).sum()).reset_index(name='revenue')\n",
    "\n",
    "# Calculate the average revenue for each member\n",
    "avg_revenue = member_revenue.groupby('member')['revenue'].mean().reset_index(name='avg_revenue')\n",
    "\n",
    "avg_revenue"
   ]
  },
  {
   "cell_type": "code",
   "execution_count": 14,
   "id": "b71d3f69",
   "metadata": {},
   "outputs": [
    {
     "data": {
      "text/plain": [
       "1.2242179999999507"
      ]
     },
     "execution_count": 14,
     "metadata": {},
     "output_type": "execute_result"
    }
   ],
   "source": [
    "516.268439 - 515.044221"
   ]
  },
  {
   "cell_type": "code",
   "execution_count": null,
   "id": "19735134",
   "metadata": {},
   "outputs": [],
   "source": []
  },
  {
   "cell_type": "markdown",
   "id": "fd2ad235",
   "metadata": {},
   "source": [
    "# Product Analysis"
   ]
  },
  {
   "cell_type": "code",
   "execution_count": null,
   "id": "b6fbafbd",
   "metadata": {},
   "outputs": [],
   "source": []
  },
  {
   "cell_type": "markdown",
   "id": "6638b063",
   "metadata": {},
   "source": [
    "## 1. What are the top 3 products by total revenue before discount?"
   ]
  },
  {
   "cell_type": "code",
   "execution_count": 45,
   "id": "08cd89c4",
   "metadata": {},
   "outputs": [
    {
     "data": {
      "text/html": [
       "<div>\n",
       "<style scoped>\n",
       "    .dataframe tbody tr th:only-of-type {\n",
       "        vertical-align: middle;\n",
       "    }\n",
       "\n",
       "    .dataframe tbody tr th {\n",
       "        vertical-align: top;\n",
       "    }\n",
       "\n",
       "    .dataframe thead th {\n",
       "        text-align: right;\n",
       "    }\n",
       "</style>\n",
       "<table border=\"1\" class=\"dataframe\">\n",
       "  <thead>\n",
       "    <tr style=\"text-align: right;\">\n",
       "      <th></th>\n",
       "      <th>product_name</th>\n",
       "      <th>revenue_before_discount</th>\n",
       "    </tr>\n",
       "  </thead>\n",
       "  <tbody>\n",
       "    <tr>\n",
       "      <th>1</th>\n",
       "      <td>Blue Polo Shirt - Mens</td>\n",
       "      <td>217683</td>\n",
       "    </tr>\n",
       "    <tr>\n",
       "      <th>3</th>\n",
       "      <td>Grey Fashion Jacket - Womens</td>\n",
       "      <td>209304</td>\n",
       "    </tr>\n",
       "    <tr>\n",
       "      <th>11</th>\n",
       "      <td>White Tee Shirt - Mens</td>\n",
       "      <td>152000</td>\n",
       "    </tr>\n",
       "  </tbody>\n",
       "</table>\n",
       "</div>"
      ],
      "text/plain": [
       "                    product_name  revenue_before_discount\n",
       "1         Blue Polo Shirt - Mens                   217683\n",
       "3   Grey Fashion Jacket - Womens                   209304\n",
       "11        White Tee Shirt - Mens                   152000"
      ]
     },
     "execution_count": 45,
     "metadata": {},
     "output_type": "execute_result"
    }
   ],
   "source": [
    "# Merge the sales and product_details DataFrames\n",
    "merged_df = pd.merge(sales, product_details, left_on='prod_id', right_on='product_id', how='inner')\n",
    "\n",
    "# Calculate revenue for each product\n",
    "merged_df['revenue_before_discount'] = merged_df['qty'] * merged_df['price_x']\n",
    "\n",
    "# Group by product_name and calculate the sum of revenue for each product\n",
    "product_revenue = merged_df.groupby('product_name')['revenue_before_discount'].sum().reset_index()\n",
    "\n",
    "# Get the top 3 products by revenue\n",
    "top_3_products = product_revenue.nlargest(3, 'revenue_before_discount')\n",
    "\n",
    "top_3_products "
   ]
  },
  {
   "cell_type": "code",
   "execution_count": null,
   "id": "c219c4c5",
   "metadata": {},
   "outputs": [],
   "source": []
  },
  {
   "cell_type": "markdown",
   "id": "e56857a3",
   "metadata": {},
   "source": [
    "## 2. What is the total quantity, revenue and discount for each segment?"
   ]
  },
  {
   "cell_type": "code",
   "execution_count": 48,
   "id": "425dc53d",
   "metadata": {},
   "outputs": [
    {
     "data": {
      "text/html": [
       "<div>\n",
       "<style scoped>\n",
       "    .dataframe tbody tr th:only-of-type {\n",
       "        vertical-align: middle;\n",
       "    }\n",
       "\n",
       "    .dataframe tbody tr th {\n",
       "        vertical-align: top;\n",
       "    }\n",
       "\n",
       "    .dataframe thead th {\n",
       "        text-align: right;\n",
       "    }\n",
       "</style>\n",
       "<table border=\"1\" class=\"dataframe\">\n",
       "  <thead>\n",
       "    <tr style=\"text-align: right;\">\n",
       "      <th></th>\n",
       "      <th>segment_name</th>\n",
       "      <th>total_quantity</th>\n",
       "      <th>total_revenue_before_discount</th>\n",
       "      <th>total_discount</th>\n",
       "    </tr>\n",
       "  </thead>\n",
       "  <tbody>\n",
       "    <tr>\n",
       "      <th>0</th>\n",
       "      <td>Jacket</td>\n",
       "      <td>11385</td>\n",
       "      <td>366983.0</td>\n",
       "      <td>4427746.0</td>\n",
       "    </tr>\n",
       "    <tr>\n",
       "      <th>1</th>\n",
       "      <td>Jeans</td>\n",
       "      <td>11349</td>\n",
       "      <td>208350.0</td>\n",
       "      <td>2534397.0</td>\n",
       "    </tr>\n",
       "    <tr>\n",
       "      <th>2</th>\n",
       "      <td>Shirt</td>\n",
       "      <td>11265</td>\n",
       "      <td>406143.0</td>\n",
       "      <td>4959427.0</td>\n",
       "    </tr>\n",
       "    <tr>\n",
       "      <th>3</th>\n",
       "      <td>Socks</td>\n",
       "      <td>11217</td>\n",
       "      <td>307977.0</td>\n",
       "      <td>3701344.0</td>\n",
       "    </tr>\n",
       "  </tbody>\n",
       "</table>\n",
       "</div>"
      ],
      "text/plain": [
       "  segment_name  total_quantity  total_revenue_before_discount  total_discount\n",
       "0       Jacket           11385                       366983.0       4427746.0\n",
       "1        Jeans           11349                       208350.0       2534397.0\n",
       "2        Shirt           11265                       406143.0       4959427.0\n",
       "3        Socks           11217                       307977.0       3701344.0"
      ]
     },
     "execution_count": 48,
     "metadata": {},
     "output_type": "execute_result"
    }
   ],
   "source": [
    "# Merge the sales and product_details DataFrames\n",
    "merged_df = pd.merge(sales, product_det ails, left_on='prod_id', right_on='product_id', how='inner')\n",
    "\n",
    "# Group by segment_name and calculate the sum of quantities, total revenue, and total discount\n",
    "result_df = merged_df.groupby('segment_name').agg(\n",
    "    total_quantity=('qty', 'sum'),\n",
    "    total_revenue_before_discount=('qty', lambda x: (x * merged_df['price_y']).sum()),\n",
    "    total_discount=('qty', lambda x: (x * merged_df['price_y'] * merged_df['discount']).sum())\n",
    ").reset_index()\n",
    "\n",
    "# Print the results or use them as needed\n",
    "result_df"
   ]
  },
  {
   "cell_type": "code",
   "execution_count": null,
   "id": "89f60419",
   "metadata": {},
   "outputs": [],
   "source": []
  },
  {
   "cell_type": "code",
   "execution_count": null,
   "id": "5e6cc67c",
   "metadata": {},
   "outputs": [],
   "source": []
  },
  {
   "cell_type": "markdown",
   "id": "f85a912e",
   "metadata": {},
   "source": [
    "## 3. What is the top selling product for each segment?"
   ]
  },
  {
   "cell_type": "code",
   "execution_count": 51,
   "id": "f6b5e112",
   "metadata": {},
   "outputs": [
    {
     "data": {
      "text/html": [
       "<div>\n",
       "<style scoped>\n",
       "    .dataframe tbody tr th:only-of-type {\n",
       "        vertical-align: middle;\n",
       "    }\n",
       "\n",
       "    .dataframe tbody tr th {\n",
       "        vertical-align: top;\n",
       "    }\n",
       "\n",
       "    .dataframe thead th {\n",
       "        text-align: right;\n",
       "    }\n",
       "</style>\n",
       "<table border=\"1\" class=\"dataframe\">\n",
       "  <thead>\n",
       "    <tr style=\"text-align: right;\">\n",
       "      <th></th>\n",
       "      <th>index</th>\n",
       "      <th>segment_name</th>\n",
       "      <th>product_name</th>\n",
       "      <th>total_quantity</th>\n",
       "    </tr>\n",
       "  </thead>\n",
       "  <tbody>\n",
       "    <tr>\n",
       "      <th>0</th>\n",
       "      <td>0</td>\n",
       "      <td>Jacket</td>\n",
       "      <td>Grey Fashion Jacket - Womens</td>\n",
       "      <td>3876</td>\n",
       "    </tr>\n",
       "    <tr>\n",
       "      <th>1</th>\n",
       "      <td>5</td>\n",
       "      <td>Jeans</td>\n",
       "      <td>Navy Oversized Jeans - Womens</td>\n",
       "      <td>3856</td>\n",
       "    </tr>\n",
       "    <tr>\n",
       "      <th>2</th>\n",
       "      <td>6</td>\n",
       "      <td>Shirt</td>\n",
       "      <td>Blue Polo Shirt - Mens</td>\n",
       "      <td>3819</td>\n",
       "    </tr>\n",
       "    <tr>\n",
       "      <th>3</th>\n",
       "      <td>9</td>\n",
       "      <td>Socks</td>\n",
       "      <td>Navy Solid Socks - Mens</td>\n",
       "      <td>3792</td>\n",
       "    </tr>\n",
       "  </tbody>\n",
       "</table>\n",
       "</div>"
      ],
      "text/plain": [
       "   index segment_name                   product_name  total_quantity\n",
       "0      0       Jacket   Grey Fashion Jacket - Womens            3876\n",
       "1      5        Jeans  Navy Oversized Jeans - Womens            3856\n",
       "2      6        Shirt         Blue Polo Shirt - Mens            3819\n",
       "3      9        Socks        Navy Solid Socks - Mens            3792"
      ]
     },
     "execution_count": 51,
     "metadata": {},
     "output_type": "execute_result"
    }
   ],
   "source": [
    "# Merge the sales and product_details DataFrames\n",
    "merged_df = pd.merge(sales, product_details, left_on='prod_id', right_on='product_id', how='inner')\n",
    "\n",
    "# Create a temporary DataFrame with the sum of quantities for each segment and product\n",
    "segment_product_quantity = merged_df.groupby(['segment_name', 'product_name']).agg(\n",
    "    total_quantity=('qty', 'sum')\n",
    ").reset_index()\n",
    "\n",
    "# Use the rank function to get the top-selling product for each segment\n",
    "segment_product_quantity['rnk'] = segment_product_quantity.groupby('segment_name')['total_quantity'].rank(ascending=False, method='dense')\n",
    "\n",
    "# Filter for the top-selling product in each segment\n",
    "top_selling_products = segment_product_quantity[segment_product_quantity['rnk'] == 1][['segment_name', 'product_name', 'total_quantity']].reset_index()\n",
    " \n",
    "# Print the results or use them as needed\n",
    "top_selling_products"
   ]
  },
  {
   "cell_type": "code",
   "execution_count": null,
   "id": "eb375dcf",
   "metadata": {},
   "outputs": [],
   "source": []
  },
  {
   "cell_type": "markdown",
   "id": "9c1dd261",
   "metadata": {},
   "source": [
    "## 4. What is the total quantity, revenue and discount for each category?"
   ]
  },
  {
   "cell_type": "code",
   "execution_count": 59,
   "id": "6a5f1899",
   "metadata": {},
   "outputs": [
    {
     "data": {
      "text/html": [
       "<div>\n",
       "<style scoped>\n",
       "    .dataframe tbody tr th:only-of-type {\n",
       "        vertical-align: middle;\n",
       "    }\n",
       "\n",
       "    .dataframe tbody tr th {\n",
       "        vertical-align: top;\n",
       "    }\n",
       "\n",
       "    .dataframe thead th {\n",
       "        text-align: right;\n",
       "    }\n",
       "</style>\n",
       "<table border=\"1\" class=\"dataframe\">\n",
       "  <thead>\n",
       "    <tr style=\"text-align: right;\">\n",
       "      <th></th>\n",
       "      <th>category_name</th>\n",
       "      <th>total_quantity</th>\n",
       "      <th>total_revenue</th>\n",
       "      <th>total_discount</th>\n",
       "    </tr>\n",
       "  </thead>\n",
       "  <tbody>\n",
       "    <tr>\n",
       "      <th>0</th>\n",
       "      <td>Mens</td>\n",
       "      <td>22482</td>\n",
       "      <td>714120.0</td>\n",
       "      <td>86607.71</td>\n",
       "    </tr>\n",
       "    <tr>\n",
       "      <th>1</th>\n",
       "      <td>Womens</td>\n",
       "      <td>22734</td>\n",
       "      <td>575333.0</td>\n",
       "      <td>69621.43</td>\n",
       "    </tr>\n",
       "  </tbody>\n",
       "</table>\n",
       "</div>"
      ],
      "text/plain": [
       "  category_name  total_quantity  total_revenue  total_discount\n",
       "0          Mens           22482       714120.0        86607.71\n",
       "1        Womens           22734       575333.0        69621.43"
      ]
     },
     "execution_count": 59,
     "metadata": {},
     "output_type": "execute_result"
    }
   ],
   "source": [
    "# Merge the sales and product_details DataFrames\n",
    "merged_df = pd.merge(sales, product_details, left_on='prod_id', right_on='product_id', how='inner')\n",
    "\n",
    "# Group by category_name and calculate the sum of quantities, total revenue, and total discount\n",
    "result_df = merged_df.groupby('category_name').agg(\n",
    "    total_quantity=('qty', 'sum'),\n",
    "    total_revenue=('qty', lambda x: (x * merged_df['price_y']).sum()),\n",
    "    total_discount=('qty', lambda x: (x * merged_df['price_y'] * merged_df['discount'] / 100).sum())\n",
    ").reset_index()\n",
    "\n",
    "# Print the results or use them as needed\n",
    "result_df"
   ]
  },
  {
   "cell_type": "code",
   "execution_count": null,
   "id": "e0e30982",
   "metadata": {},
   "outputs": [],
   "source": []
  },
  {
   "cell_type": "markdown",
   "id": "4bbd4eaf",
   "metadata": {},
   "source": [
    "## Difference between rank and dense rank"
   ]
  },
  {
   "cell_type": "markdown",
   "id": "568208bd",
   "metadata": {},
   "source": [
    "## Rank:\n",
    "\n",
    "Rank is a simple method of assigning ranks to values where tied values receive the same rank, and the next value receives a rank incremented by the number of tied values.\n",
    "For example, if two values are tied for the second-highest value, they both receive a rank of 2, and the next distinct value receives a rank of 4 (skipping 3).\n",
    "EX:\n",
    "- Values: 10, 20, 30, 30, 40\n",
    "\n",
    "-    Rank:     1,  2,  3,  3,  5\n",
    "\n",
    "## Dense Rank:\n",
    "\n",
    "Dense rank, on the other hand, does not skip ranks for tied values. Tied values all receive the same rank, and the next distinct value receives the next rank without any gaps.\n",
    "It is \"dense\" in the sense that there are no gaps in the sequence of ranks.\n",
    "\n",
    "Ex:\n",
    "- Values:      10, 20, 30, 30, 40\n",
    "\n",
    "- Dense Rank:  1,  2,  3,  3,  4"
   ]
  },
  {
   "cell_type": "code",
   "execution_count": null,
   "id": "98b12d70",
   "metadata": {},
   "outputs": [],
   "source": []
  },
  {
   "cell_type": "markdown",
   "id": "c8badbbc",
   "metadata": {},
   "source": [
    "## 5. What is the top selling product for each category?"
   ]
  },
  {
   "cell_type": "code",
   "execution_count": 60,
   "id": "bd588f02",
   "metadata": {},
   "outputs": [
    {
     "data": {
      "text/html": [
       "<div>\n",
       "<style scoped>\n",
       "    .dataframe tbody tr th:only-of-type {\n",
       "        vertical-align: middle;\n",
       "    }\n",
       "\n",
       "    .dataframe tbody tr th {\n",
       "        vertical-align: top;\n",
       "    }\n",
       "\n",
       "    .dataframe thead th {\n",
       "        text-align: right;\n",
       "    }\n",
       "</style>\n",
       "<table border=\"1\" class=\"dataframe\">\n",
       "  <thead>\n",
       "    <tr style=\"text-align: right;\">\n",
       "      <th></th>\n",
       "      <th>category_name</th>\n",
       "      <th>product_name</th>\n",
       "      <th>total_quantity</th>\n",
       "    </tr>\n",
       "  </thead>\n",
       "  <tbody>\n",
       "    <tr>\n",
       "      <th>0</th>\n",
       "      <td>Mens</td>\n",
       "      <td>Blue Polo Shirt - Mens</td>\n",
       "      <td>3819</td>\n",
       "    </tr>\n",
       "    <tr>\n",
       "      <th>8</th>\n",
       "      <td>Womens</td>\n",
       "      <td>Grey Fashion Jacket - Womens</td>\n",
       "      <td>3876</td>\n",
       "    </tr>\n",
       "  </tbody>\n",
       "</table>\n",
       "</div>"
      ],
      "text/plain": [
       "  category_name                  product_name  total_quantity\n",
       "0          Mens        Blue Polo Shirt - Mens            3819\n",
       "8        Womens  Grey Fashion Jacket - Womens            3876"
      ]
     },
     "execution_count": 60,
     "metadata": {},
     "output_type": "execute_result"
    }
   ],
   "source": [
    "# Merge the sales and product_details DataFrames\n",
    "merged_df = pd.merge(sales, product_details, left_on='prod_id', right_on='product_id', how='inner')\n",
    "\n",
    "# Create a temporary DataFrame with the sum of quantities for each category and product\n",
    "category_product_quantity = merged_df.groupby(['category_name', 'product_name']).agg(\n",
    "    total_quantity=('qty', 'sum')\n",
    ").reset_index()\n",
    "\n",
    "# Use the rank function to get the top-selling product for each category\n",
    "category_product_quantity['rnk'] = category_product_quantity.groupby('category_name')['total_quantity'].rank(ascending=False, method='dense')\n",
    "\n",
    "# Filter for the top-selling product in each category\n",
    "top_selling_products = category_product_quantity[category_product_quantity['rnk'] == 1][['category_name', 'product_name', 'total_quantity']]\n",
    "\n",
    "# Print the results or use them as needed\n",
    "top_selling_products"
   ]
  },
  {
   "cell_type": "code",
   "execution_count": null,
   "id": "56501975",
   "metadata": {},
   "outputs": [],
   "source": []
  },
  {
   "cell_type": "markdown",
   "id": "4c7d3766",
   "metadata": {},
   "source": [
    "## 6. What is the percentage split of revenue by product for each segment?\n"
   ]
  },
  {
   "cell_type": "code",
   "execution_count": 63,
   "id": "9f3ac89b",
   "metadata": {},
   "outputs": [
    {
     "data": {
      "text/html": [
       "<div>\n",
       "<style scoped>\n",
       "    .dataframe tbody tr th:only-of-type {\n",
       "        vertical-align: middle;\n",
       "    }\n",
       "\n",
       "    .dataframe tbody tr th {\n",
       "        vertical-align: top;\n",
       "    }\n",
       "\n",
       "    .dataframe thead th {\n",
       "        text-align: right;\n",
       "    }\n",
       "</style>\n",
       "<table border=\"1\" class=\"dataframe\">\n",
       "  <thead>\n",
       "    <tr style=\"text-align: right;\">\n",
       "      <th></th>\n",
       "      <th>segment_name</th>\n",
       "      <th>product_name</th>\n",
       "      <th>segment_product_pct</th>\n",
       "    </tr>\n",
       "  </thead>\n",
       "  <tbody>\n",
       "    <tr>\n",
       "      <th>0</th>\n",
       "      <td>Jacket</td>\n",
       "      <td>Grey Fashion Jacket - Womens</td>\n",
       "      <td>57.033705</td>\n",
       "    </tr>\n",
       "    <tr>\n",
       "      <th>1</th>\n",
       "      <td>Jacket</td>\n",
       "      <td>Indigo Rain Jacket - Womens</td>\n",
       "      <td>19.451310</td>\n",
       "    </tr>\n",
       "    <tr>\n",
       "      <th>2</th>\n",
       "      <td>Jacket</td>\n",
       "      <td>Khaki Suit Jacket - Womens</td>\n",
       "      <td>23.514986</td>\n",
       "    </tr>\n",
       "    <tr>\n",
       "      <th>3</th>\n",
       "      <td>Jeans</td>\n",
       "      <td>Black Straight Jeans - Womens</td>\n",
       "      <td>58.148308</td>\n",
       "    </tr>\n",
       "    <tr>\n",
       "      <th>4</th>\n",
       "      <td>Jeans</td>\n",
       "      <td>Cream Relaxed Jeans - Womens</td>\n",
       "      <td>17.792177</td>\n",
       "    </tr>\n",
       "    <tr>\n",
       "      <th>5</th>\n",
       "      <td>Jeans</td>\n",
       "      <td>Navy Oversized Jeans - Womens</td>\n",
       "      <td>24.059515</td>\n",
       "    </tr>\n",
       "    <tr>\n",
       "      <th>6</th>\n",
       "      <td>Shirt</td>\n",
       "      <td>Blue Polo Shirt - Mens</td>\n",
       "      <td>53.597624</td>\n",
       "    </tr>\n",
       "    <tr>\n",
       "      <th>7</th>\n",
       "      <td>Shirt</td>\n",
       "      <td>Teal Button Up Shirt - Mens</td>\n",
       "      <td>8.977134</td>\n",
       "    </tr>\n",
       "    <tr>\n",
       "      <th>8</th>\n",
       "      <td>Shirt</td>\n",
       "      <td>White Tee Shirt - Mens</td>\n",
       "      <td>37.425242</td>\n",
       "    </tr>\n",
       "    <tr>\n",
       "      <th>9</th>\n",
       "      <td>Socks</td>\n",
       "      <td>Navy Solid Socks - Mens</td>\n",
       "      <td>44.325388</td>\n",
       "    </tr>\n",
       "    <tr>\n",
       "      <th>10</th>\n",
       "      <td>Socks</td>\n",
       "      <td>Pink Fluro Polkadot Socks - Mens</td>\n",
       "      <td>35.499404</td>\n",
       "    </tr>\n",
       "    <tr>\n",
       "      <th>11</th>\n",
       "      <td>Socks</td>\n",
       "      <td>White Striped Socks - Mens</td>\n",
       "      <td>20.175208</td>\n",
       "    </tr>\n",
       "  </tbody>\n",
       "</table>\n",
       "</div>"
      ],
      "text/plain": [
       "   segment_name                      product_name  segment_product_pct\n",
       "0        Jacket      Grey Fashion Jacket - Womens            57.033705\n",
       "1        Jacket       Indigo Rain Jacket - Womens            19.451310\n",
       "2        Jacket        Khaki Suit Jacket - Womens            23.514986\n",
       "3         Jeans     Black Straight Jeans - Womens            58.148308\n",
       "4         Jeans      Cream Relaxed Jeans - Womens            17.792177\n",
       "5         Jeans     Navy Oversized Jeans - Womens            24.059515\n",
       "6         Shirt            Blue Polo Shirt - Mens            53.597624\n",
       "7         Shirt       Teal Button Up Shirt - Mens             8.977134\n",
       "8         Shirt            White Tee Shirt - Mens            37.425242\n",
       "9         Socks           Navy Solid Socks - Mens            44.325388\n",
       "10        Socks  Pink Fluro Polkadot Socks - Mens            35.499404\n",
       "11        Socks        White Striped Socks - Mens            20.175208"
      ]
     },
     "execution_count": 63,
     "metadata": {},
     "output_type": "execute_result"
    }
   ],
   "source": [
    "# Merge the sales and product_details DataFrames\n",
    "merged_df = pd.merge(sales, product_details, left_on='prod_id', right_on='product_id', how='inner')\n",
    "\n",
    "# Create a temporary DataFrame with the sum of product revenue for each segment and product\n",
    "segment_product_revenue = merged_df.groupby(['segment_name', 'product_name']).agg(\n",
    "    product_revenue=('qty', lambda x: (x * merged_df['price_x']).sum())\n",
    ").reset_index()\n",
    "\n",
    "# Calculate the total revenue for each segment\n",
    "segment_total_revenue = segment_product_revenue.groupby('segment_name')['product_revenue'].transform('sum')\n",
    "\n",
    "# Calculate the percentage of product revenue for each segment and product\n",
    "segment_product_revenue['segment_product_pct'] = (\n",
    "    100.0 * segment_product_revenue['product_revenue'] / segment_total_revenue\n",
    ")\n",
    "\n",
    "# Print the results or use them as needed\n",
    "segment_product_revenue[['segment_name', 'product_name', 'segment_product_pct']]"
   ]
  },
  {
   "cell_type": "code",
   "execution_count": null,
   "id": "627b857a",
   "metadata": {},
   "outputs": [],
   "source": []
  },
  {
   "cell_type": "markdown",
   "id": "f03c1a89",
   "metadata": {},
   "source": [
    "## 7. What is the percentage split of revenue by segment for each category?\n"
   ]
  },
  {
   "cell_type": "code",
   "execution_count": 64,
   "id": "2fb26075",
   "metadata": {},
   "outputs": [
    {
     "data": {
      "text/html": [
       "<div>\n",
       "<style scoped>\n",
       "    .dataframe tbody tr th:only-of-type {\n",
       "        vertical-align: middle;\n",
       "    }\n",
       "\n",
       "    .dataframe tbody tr th {\n",
       "        vertical-align: top;\n",
       "    }\n",
       "\n",
       "    .dataframe thead th {\n",
       "        text-align: right;\n",
       "    }\n",
       "</style>\n",
       "<table border=\"1\" class=\"dataframe\">\n",
       "  <thead>\n",
       "    <tr style=\"text-align: right;\">\n",
       "      <th></th>\n",
       "      <th>segment_name</th>\n",
       "      <th>category_name</th>\n",
       "      <th>segment_category_pct</th>\n",
       "    </tr>\n",
       "  </thead>\n",
       "  <tbody>\n",
       "    <tr>\n",
       "      <th>0</th>\n",
       "      <td>Jacket</td>\n",
       "      <td>Womens</td>\n",
       "      <td>63.786190</td>\n",
       "    </tr>\n",
       "    <tr>\n",
       "      <th>1</th>\n",
       "      <td>Jeans</td>\n",
       "      <td>Womens</td>\n",
       "      <td>36.213810</td>\n",
       "    </tr>\n",
       "    <tr>\n",
       "      <th>2</th>\n",
       "      <td>Shirt</td>\n",
       "      <td>Mens</td>\n",
       "      <td>56.873215</td>\n",
       "    </tr>\n",
       "    <tr>\n",
       "      <th>3</th>\n",
       "      <td>Socks</td>\n",
       "      <td>Mens</td>\n",
       "      <td>43.126785</td>\n",
       "    </tr>\n",
       "  </tbody>\n",
       "</table>\n",
       "</div>"
      ],
      "text/plain": [
       "  segment_name category_name  segment_category_pct\n",
       "0       Jacket        Womens             63.786190\n",
       "1        Jeans        Womens             36.213810\n",
       "2        Shirt          Mens             56.873215\n",
       "3        Socks          Mens             43.126785"
      ]
     },
     "execution_count": 64,
     "metadata": {},
     "output_type": "execute_result"
    }
   ],
   "source": [
    "# Merge the sales and product_details DataFrames\n",
    "merged_df = pd.merge(sales, product_details, left_on='prod_id', right_on='product_id', how='inner')\n",
    "\n",
    "# Create a temporary DataFrame with the sum of category revenue for each segment and category\n",
    "segment_category_revenue = merged_df.groupby(['segment_name', 'category_name']).agg(\n",
    "    category_revenue=('qty', lambda x: (x * merged_df['price_y']).sum())\n",
    ").reset_index()\n",
    "\n",
    "# Calculate the total revenue for each category\n",
    "category_total_revenue = segment_category_revenue.groupby('category_name')['category_revenue'].transform('sum')\n",
    "\n",
    "# Calculate the percentage of category revenue for each segment and category\n",
    "segment_category_revenue['segment_category_pct'] = (\n",
    "    100.0 * segment_category_revenue['category_revenue'] / category_total_revenue\n",
    ")\n",
    "\n",
    "# Print the results or use them as needed\n",
    "segment_category_revenue[['segment_name', 'category_name', 'segment_category_pct']]"
   ]
  },
  {
   "cell_type": "code",
   "execution_count": null,
   "id": "567c8c36",
   "metadata": {},
   "outputs": [],
   "source": []
  },
  {
   "cell_type": "code",
   "execution_count": null,
   "id": "cdb9885b",
   "metadata": {},
   "outputs": [],
   "source": []
  },
  {
   "cell_type": "markdown",
   "id": "cee0ef31",
   "metadata": {},
   "source": [
    "## 8. What is the percentage split of total revenue by category?\n"
   ]
  },
  {
   "cell_type": "code",
   "execution_count": 66,
   "id": "807fb9ad",
   "metadata": {},
   "outputs": [
    {
     "data": {
      "text/html": [
       "<div>\n",
       "<style scoped>\n",
       "    .dataframe tbody tr th:only-of-type {\n",
       "        vertical-align: middle;\n",
       "    }\n",
       "\n",
       "    .dataframe tbody tr th {\n",
       "        vertical-align: top;\n",
       "    }\n",
       "\n",
       "    .dataframe thead th {\n",
       "        text-align: right;\n",
       "    }\n",
       "</style>\n",
       "<table border=\"1\" class=\"dataframe\">\n",
       "  <thead>\n",
       "    <tr style=\"text-align: right;\">\n",
       "      <th></th>\n",
       "      <th>category_name</th>\n",
       "      <th>category_pct</th>\n",
       "    </tr>\n",
       "  </thead>\n",
       "  <tbody>\n",
       "    <tr>\n",
       "      <th>0</th>\n",
       "      <td>Mens</td>\n",
       "      <td>55.381623</td>\n",
       "    </tr>\n",
       "    <tr>\n",
       "      <th>1</th>\n",
       "      <td>Womens</td>\n",
       "      <td>44.618377</td>\n",
       "    </tr>\n",
       "  </tbody>\n",
       "</table>\n",
       "</div>"
      ],
      "text/plain": [
       "  category_name  category_pct\n",
       "0          Mens     55.381623\n",
       "1        Womens     44.618377"
      ]
     },
     "execution_count": 66,
     "metadata": {},
     "output_type": "execute_result"
    }
   ],
   "source": [
    "# Merge the sales and product_details DataFrames\n",
    "merged_df = pd.merge(sales, product_details, left_on='prod_id', right_on='product_id', how='inner')\n",
    "\n",
    "# Create a temporary DataFrame with the sum of revenue for each category\n",
    "category_revenue = merged_df.groupby('category_name').agg(\n",
    "    revenue=('qty', lambda x: (x * merged_df['price_x']).sum())\n",
    ").reset_index()\n",
    "\n",
    "# Calculate the total revenue for all categories\n",
    "total_revenue = category_revenue['revenue'].sum()\n",
    "\n",
    "# Calculate the percentage of revenue for each category\n",
    "category_revenue['category_pct'] = (\n",
    "    100.0 * category_revenue['revenue'] / total_revenue\n",
    ")\n",
    "\n",
    "# Print the results or use them as needed\n",
    "category_revenue[['category_name', 'category_pct']]"
   ]
  },
  {
   "cell_type": "code",
   "execution_count": null,
   "id": "116a6b20",
   "metadata": {},
   "outputs": [],
   "source": []
  },
  {
   "cell_type": "code",
   "execution_count": null,
   "id": "c41f1375",
   "metadata": {},
   "outputs": [],
   "source": []
  },
  {
   "cell_type": "code",
   "execution_count": null,
   "id": "691a6ea7",
   "metadata": {},
   "outputs": [],
   "source": []
  },
  {
   "cell_type": "code",
   "execution_count": null,
   "id": "39634cd2",
   "metadata": {},
   "outputs": [],
   "source": []
  },
  {
   "cell_type": "code",
   "execution_count": null,
   "id": "0ec7e1c2",
   "metadata": {},
   "outputs": [],
   "source": []
  },
  {
   "cell_type": "code",
   "execution_count": null,
   "id": "88a269cc",
   "metadata": {},
   "outputs": [],
   "source": []
  },
  {
   "cell_type": "code",
   "execution_count": null,
   "id": "cb8d0b8f",
   "metadata": {},
   "outputs": [],
   "source": []
  },
  {
   "cell_type": "code",
   "execution_count": null,
   "id": "60bad1ee",
   "metadata": {},
   "outputs": [],
   "source": []
  },
  {
   "cell_type": "code",
   "execution_count": null,
   "id": "f68c8d7d",
   "metadata": {},
   "outputs": [],
   "source": []
  },
  {
   "cell_type": "code",
   "execution_count": null,
   "id": "739ad07c",
   "metadata": {},
   "outputs": [],
   "source": []
  },
  {
   "cell_type": "code",
   "execution_count": null,
   "id": "e7ea6a66",
   "metadata": {},
   "outputs": [],
   "source": []
  },
  {
   "cell_type": "code",
   "execution_count": null,
   "id": "32f134cb",
   "metadata": {},
   "outputs": [],
   "source": []
  },
  {
   "cell_type": "markdown",
   "id": "d87e3797",
   "metadata": {},
   "source": [
    "## 9. What is the total transaction “penetration” for each product?\n",
    "- (hint: penetration = number of transactions where at least 1 quantity of a product was purchased divided by total number of transactions)"
   ]
  },
  {
   "cell_type": "code",
   "execution_count": 2,
   "id": "4cc7c87c",
   "metadata": {},
   "outputs": [
    {
     "ename": "NameError",
     "evalue": "name 'sales' is not defined",
     "output_type": "error",
     "traceback": [
      "\u001b[1;31m---------------------------------------------------------------------------\u001b[0m",
      "\u001b[1;31mNameError\u001b[0m                                 Traceback (most recent call last)",
      "Cell \u001b[1;32mIn[2], line 2\u001b[0m\n\u001b[0;32m      1\u001b[0m \u001b[38;5;66;03m# Merge the sales and product_details DataFrames\u001b[39;00m\n\u001b[1;32m----> 2\u001b[0m merged_df \u001b[38;5;241m=\u001b[39m pd\u001b[38;5;241m.\u001b[39mmerge(sales, product_details, left_on\u001b[38;5;241m=\u001b[39m\u001b[38;5;124m'\u001b[39m\u001b[38;5;124mprod_id\u001b[39m\u001b[38;5;124m'\u001b[39m, right_on\u001b[38;5;241m=\u001b[39m\u001b[38;5;124m'\u001b[39m\u001b[38;5;124mproduct_id\u001b[39m\u001b[38;5;124m'\u001b[39m, how\u001b[38;5;241m=\u001b[39m\u001b[38;5;124m'\u001b[39m\u001b[38;5;124minner\u001b[39m\u001b[38;5;124m'\u001b[39m)\n\u001b[0;32m      4\u001b[0m \u001b[38;5;66;03m# Create a temporary DataFrame with the count of transactions for each product and the total number of transactions\u001b[39;00m\n\u001b[0;32m      5\u001b[0m product_transactions \u001b[38;5;241m=\u001b[39m merged_df\u001b[38;5;241m.\u001b[39mgroupby([\u001b[38;5;124m'\u001b[39m\u001b[38;5;124mprod_id\u001b[39m\u001b[38;5;124m'\u001b[39m, \u001b[38;5;124m'\u001b[39m\u001b[38;5;124mproduct_name\u001b[39m\u001b[38;5;124m'\u001b[39m])\u001b[38;5;241m.\u001b[39magg(\n\u001b[0;32m      6\u001b[0m     product_txn\u001b[38;5;241m=\u001b[39m(\u001b[38;5;124m'\u001b[39m\u001b[38;5;124mtxn_id\u001b[39m\u001b[38;5;124m'\u001b[39m, \u001b[38;5;124m'\u001b[39m\u001b[38;5;124mnunique\u001b[39m\u001b[38;5;124m'\u001b[39m),\n\u001b[0;32m      7\u001b[0m     total_txn\u001b[38;5;241m=\u001b[39m(\u001b[38;5;124m'\u001b[39m\u001b[38;5;124mtxn_id\u001b[39m\u001b[38;5;124m'\u001b[39m, \u001b[38;5;124m'\u001b[39m\u001b[38;5;124mnunique\u001b[39m\u001b[38;5;124m'\u001b[39m)\n\u001b[0;32m      8\u001b[0m )\u001b[38;5;241m.\u001b[39mreset_index()\n",
      "\u001b[1;31mNameError\u001b[0m: name 'sales' is not defined"
     ]
    }
   ],
   "source": [
    "# Merge the sales and product_details DataFrames\n",
    "merged_df = pd.merge(sales, product_details, left_on='prod_id', right_on='product_id', how='inner')\n",
    "\n",
    "# Create a temporary DataFrame with the count of transactions for each product and the total number of transactions\n",
    "product_transactions = merged_df.groupby(['prod_id', 'product_name']).agg(\n",
    "    product_txn=('txn_id', 'nunique'),\n",
    "    total_txn=('txn_id', 'nunique')\n",
    ").reset_index()\n",
    "\n",
    "# Calculate the percentage of penetration for each product\n",
    "product_transactions['penetration_pct'] = (\n",
    "    100.0 * product_transactions['product_txn'] / product_transactions['total_txn']\n",
    ")\n",
    "\n",
    "# Print the results or use them as needed\n",
    "product_transactions"
   ]
  },
  {
   "cell_type": "code",
   "execution_count": null,
   "id": "e232984e",
   "metadata": {},
   "outputs": [],
   "source": []
  },
  {
   "cell_type": "code",
   "execution_count": null,
   "id": "a8431f19",
   "metadata": {},
   "outputs": [],
   "source": []
  }
 ],
 "metadata": {
  "kernelspec": {
   "display_name": "Python 3 (ipykernel)",
   "language": "python",
   "name": "python3"
  },
  "language_info": {
   "codemirror_mode": {
    "name": "ipython",
    "version": 3
   },
   "file_extension": ".py",
   "mimetype": "text/x-python",
   "name": "python",
   "nbconvert_exporter": "python",
   "pygments_lexer": "ipython3",
   "version": "3.11.5"
  }
 },
 "nbformat": 4,
 "nbformat_minor": 5
}
